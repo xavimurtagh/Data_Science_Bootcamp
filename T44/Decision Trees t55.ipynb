{
 "cells": [
  {
   "cell_type": "markdown",
   "metadata": {},
   "source": [
    "## Improving Decision Trees"
   ]
  },
  {
   "cell_type": "code",
   "execution_count": 1,
   "metadata": {},
   "outputs": [],
   "source": [
    "# import packages \n",
    "import pandas as pd\n",
    "\n",
    "from sklearn.datasets import make_classification\n",
    "from sklearn.model_selection import train_test_split\n",
    "from sklearn.metrics import accuracy_score\n",
    "\n",
    "from sklearn.tree import DecisionTreeClassifier\n",
    "from sklearn.ensemble import BaggingClassifier\n",
    "from sklearn.ensemble import RandomForestClassifier\n",
    "from sklearn.ensemble import AdaBoostClassifier\n",
    "\n",
    "import matplotlib.pyplot as plt\n",
    "%matplotlib inline\n",
    "\n",
    "# Create toy data\n",
    "X, y = make_classification(n_samples=1000, n_features=10,\n",
    "                           n_informative=5, n_redundant=0,\n",
    "                           random_state=123, shuffle=False)\n",
    "\n",
    "X_train, X_test, y_train, y_test = train_test_split(X, y, test_size=0.3) # 70% training and 30% test"
   ]
  },
  {
   "cell_type": "code",
   "execution_count": 11,
   "metadata": {},
   "outputs": [
    {
     "name": "stdout",
     "output_type": "stream",
     "text": [
      "Accuracy base: 0.9233333333333333\n",
      "Accuracy ensemble: 0.9533333333333334\n"
     ]
    }
   ],
   "source": [
    "from sklearn.tree import DecisionTreeClassifier\n",
    "from sklearn import tree\n",
    "\n",
    "# Create base model\n",
    "base = DecisionTreeClassifier(max_depth=5)\n",
    "ensemble = BaggingClassifier(n_estimators=100, random_state=7)\n",
    "\n",
    "base.fit(X_train,y_train)\n",
    "ensemble.fit(X_train,y_train)\n",
    "\n",
    "print(\"Accuracy base:\",base.score(X_test, y_test))\n",
    "print(\"Accuracy ensemble:\",ensemble.score(X_test, y_test))"
   ]
  },
  {
   "cell_type": "markdown",
   "metadata": {},
   "source": [
    "### Importance scores\n",
    "\n",
    "A property of the Random Forest ensemble method in sklearn is that they let you print importance scores for features in the dataset. "
   ]
  },
  {
   "cell_type": "code",
   "execution_count": 3,
   "metadata": {},
   "outputs": [
    {
     "data": {
      "text/plain": [
       "0    0.369247\n",
       "1    0.248328\n",
       "2    0.127143\n",
       "3    0.105580\n",
       "4    0.045600\n",
       "8    0.023802\n",
       "7    0.020579\n",
       "5    0.020418\n",
       "6    0.020112\n",
       "9    0.019192\n",
       "dtype: float64"
      ]
     },
     "execution_count": 3,
     "metadata": {},
     "output_type": "execute_result"
    }
   ],
   "source": [
    "forest = RandomForestClassifier(n_estimators=100, random_state=7)\n",
    "forest.fit(X_train, y_train)\n",
    "\n",
    "feature_imp = pd.Series(forest.feature_importances_).sort_values(ascending=False)\n",
    "feature_imp"
   ]
  },
  {
   "cell_type": "markdown",
   "metadata": {},
   "source": [
    "At the start of this notebook, we specified that this dataset has 10 features, of which 5 are informative. The classifier indeed relied on the bottom five features less than on the top. An advantage of investigating the importance of features is that irrelevant features can be removed. This removal of noise tends to improve performance and reduce training time."
   ]
  },
  {
   "cell_type": "code",
   "execution_count": 4,
   "metadata": {},
   "outputs": [
    {
     "name": "stdout",
     "output_type": "stream",
     "text": [
      "Accuracy base: 0.9233333333333333\n",
      "Accuracy ensemble: 0.9533333333333334\n"
     ]
    }
   ],
   "source": [
    "# select important features\n",
    "X = X[:, :5]\n",
    "\n",
    "# retrain \n",
    "X_train, X_test, y_train, y_test = train_test_split(X, y, test_size=0.3) # 70% training and 30% test\n",
    "base.fit(X_train,y_train)\n",
    "ensemble.fit(X_train,y_train)\n",
    "\n",
    "print(\"Accuracy base:\",base.score(X_test, y_test))\n",
    "print(\"Accuracy ensemble:\",ensemble.score(X_test, y_test))"
   ]
  }
 ],
 "metadata": {
  "kernelspec": {
   "display_name": "Python 3 (ipykernel)",
   "language": "python",
   "name": "python3"
  },
  "language_info": {
   "codemirror_mode": {
    "name": "ipython",
    "version": 3
   },
   "file_extension": ".py",
   "mimetype": "text/x-python",
   "name": "python",
   "nbconvert_exporter": "python",
   "pygments_lexer": "ipython3",
   "version": "3.9.5"
  }
 },
 "nbformat": 4,
 "nbformat_minor": 2
}
