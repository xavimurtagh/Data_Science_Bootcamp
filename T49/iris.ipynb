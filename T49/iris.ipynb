{
 "cells": [
  {
   "cell_type": "code",
   "execution_count": 2,
   "id": "72bcc950",
   "metadata": {},
   "outputs": [],
   "source": [
    "# Import dependencies\n",
    "from scipy.spatial.distance import pdist, squareform\n",
    "import pandas as pd\n",
    "import numpy as np\n",
    "\n",
    "from sklearn.model_selection import train_test_split\n",
    "from sklearn.preprocessing import LabelEncoder\n",
    "from sklearn.metrics import accuracy_score, silhouette_score\n",
    "\n",
    "from sklearn.cluster import KMeans\n",
    "from sklearn.cluster import AgglomerativeClustering\n",
    "from scipy.cluster.hierarchy import dendrogram, linkage\n",
    "import matplotlib.pyplot as plt\n",
    "import seaborn as sns\n",
    "%matplotlib inline"
   ]
  },
  {
   "cell_type": "code",
   "execution_count": 3,
   "id": "c111ed51",
   "metadata": {},
   "outputs": [
    {
     "data": {
      "text/html": [
       "<div>\n",
       "<style scoped>\n",
       "    .dataframe tbody tr th:only-of-type {\n",
       "        vertical-align: middle;\n",
       "    }\n",
       "\n",
       "    .dataframe tbody tr th {\n",
       "        vertical-align: top;\n",
       "    }\n",
       "\n",
       "    .dataframe thead th {\n",
       "        text-align: right;\n",
       "    }\n",
       "</style>\n",
       "<table border=\"1\" class=\"dataframe\">\n",
       "  <thead>\n",
       "    <tr style=\"text-align: right;\">\n",
       "      <th></th>\n",
       "      <th>SepalLengthCm</th>\n",
       "      <th>SepalWidthCm</th>\n",
       "      <th>PetalLengthCm</th>\n",
       "      <th>PetalWidthCm</th>\n",
       "      <th>Species</th>\n",
       "    </tr>\n",
       "    <tr>\n",
       "      <th>Id</th>\n",
       "      <th></th>\n",
       "      <th></th>\n",
       "      <th></th>\n",
       "      <th></th>\n",
       "      <th></th>\n",
       "    </tr>\n",
       "  </thead>\n",
       "  <tbody>\n",
       "    <tr>\n",
       "      <th>1</th>\n",
       "      <td>5.1</td>\n",
       "      <td>3.5</td>\n",
       "      <td>1.4</td>\n",
       "      <td>0.2</td>\n",
       "      <td>Iris-setosa</td>\n",
       "    </tr>\n",
       "    <tr>\n",
       "      <th>2</th>\n",
       "      <td>4.9</td>\n",
       "      <td>3.0</td>\n",
       "      <td>1.4</td>\n",
       "      <td>0.2</td>\n",
       "      <td>Iris-setosa</td>\n",
       "    </tr>\n",
       "    <tr>\n",
       "      <th>3</th>\n",
       "      <td>4.7</td>\n",
       "      <td>3.2</td>\n",
       "      <td>1.3</td>\n",
       "      <td>0.2</td>\n",
       "      <td>Iris-setosa</td>\n",
       "    </tr>\n",
       "    <tr>\n",
       "      <th>4</th>\n",
       "      <td>4.6</td>\n",
       "      <td>3.1</td>\n",
       "      <td>1.5</td>\n",
       "      <td>0.2</td>\n",
       "      <td>Iris-setosa</td>\n",
       "    </tr>\n",
       "    <tr>\n",
       "      <th>5</th>\n",
       "      <td>5.0</td>\n",
       "      <td>3.6</td>\n",
       "      <td>1.4</td>\n",
       "      <td>0.2</td>\n",
       "      <td>Iris-setosa</td>\n",
       "    </tr>\n",
       "  </tbody>\n",
       "</table>\n",
       "</div>"
      ],
      "text/plain": [
       "    SepalLengthCm  SepalWidthCm  PetalLengthCm  PetalWidthCm      Species\n",
       "Id                                                                       \n",
       "1             5.1           3.5            1.4           0.2  Iris-setosa\n",
       "2             4.9           3.0            1.4           0.2  Iris-setosa\n",
       "3             4.7           3.2            1.3           0.2  Iris-setosa\n",
       "4             4.6           3.1            1.5           0.2  Iris-setosa\n",
       "5             5.0           3.6            1.4           0.2  Iris-setosa"
      ]
     },
     "execution_count": 3,
     "metadata": {},
     "output_type": "execute_result"
    }
   ],
   "source": [
    "#Importing the dataset\n",
    "data = pd.read_csv(\"iris.csv\", index_col=0)\n",
    "data.head()"
   ]
  },
  {
   "cell_type": "code",
   "execution_count": 4,
   "id": "6b5ce9ab",
   "metadata": {},
   "outputs": [],
   "source": [
    "# select the features i want to use\n",
    "X = data[['PetalWidthCm','PetalLengthCm']].values.reshape(-1,2)"
   ]
  },
  {
   "cell_type": "code",
   "execution_count": 5,
   "id": "d5430fc3",
   "metadata": {},
   "outputs": [
    {
     "data": {
      "image/png": "[encoded data removed]",
      "text/plain": [
       "<Figure size 432x288 with 1 Axes>"
      ]
     },
     "metadata": {
      "needs_background": "light"
     },
     "output_type": "display_data"
    }
   ],
   "source": [
    "# euclidean complete dendogram\n",
    "plt.title(\"Complete linkage based Dendograms\")\n",
    "euc_com = pdist(X, 'euclidean')\n",
    "dend = dendrogram(linkage(euc_com, method='complete')) "
   ]
  },
  {
   "cell_type": "code",
   "execution_count": 6,
   "id": "cfd8ace2",
   "metadata": {},
   "outputs": [
    {
     "data": {
      "image/png": "[encoded data removed]",
      "text/plain": [
       "<Figure size 432x288 with 1 Axes>"
      ]
     },
     "metadata": {
      "needs_background": "light"
     },
     "output_type": "display_data"
    }
   ],
   "source": [
    "# cityblock complete dendogram\n",
    "plt.title(\"Complete linkage based Dendograms\")\n",
    "cty_com = pdist(X, 'cityblock')\n",
    "dend = dendrogram(linkage(cty_com, method='complete')) "
   ]
  },
  {
   "cell_type": "code",
   "execution_count": 7,
   "id": "23b6ca77",
   "metadata": {},
   "outputs": [
    {
     "data": {
      "image/png": "[encoded data removed]",
      "text/plain": [
       "<Figure size 432x288 with 1 Axes>"
      ]
     },
     "metadata": {
      "needs_background": "light"
     },
     "output_type": "display_data"
    }
   ],
   "source": [
    "# euclidean single dendogram\n",
    "plt.title(\"Single linkage based Dendograms\") \n",
    "euc_sin = pdist(X, 'euclidean')\n",
    "dend = dendrogram(linkage(euc_sin, method='single'))"
   ]
  },
  {
   "cell_type": "code",
   "execution_count": 8,
   "id": "ea99f51a",
   "metadata": {},
   "outputs": [
    {
     "data": {
      "image/png": "[encoded data removed]",
      "text/plain": [
       "<Figure size 432x288 with 1 Axes>"
      ]
     },
     "metadata": {
      "needs_background": "light"
     },
     "output_type": "display_data"
    }
   ],
   "source": [
    "# cityblock single dendogram\n",
    "plt.title(\"Complete linkage based Dendograms\")\n",
    "cty_sin = pdist(X, 'cityblock')\n",
    "dend = dendrogram(linkage(cty_sin, method='single')) "
   ]
  },
  {
   "cell_type": "markdown",
   "id": "cd68570e",
   "metadata": {},
   "source": [
    "Ive decided to go forward with the complete euclidean model."
   ]
  },
  {
   "cell_type": "code",
   "execution_count": 9,
   "id": "e76fc87e",
   "metadata": {},
   "outputs": [
    {
     "data": {
      "text/plain": [
       "array([[0.2, 1.4],\n",
       "       [0.2, 1.4],\n",
       "       [0.2, 1.3],\n",
       "       [0.2, 1.5],\n",
       "       [0.2, 1.4],\n",
       "       [0.4, 1.7],\n",
       "       [0.3, 1.4],\n",
       "       [0.2, 1.5],\n",
       "       [0.2, 1.4],\n",
       "       [0.1, 1.5],\n",
       "       [0.2, 1.5],\n",
       "       [0.2, 1.6],\n",
       "       [0.1, 1.4],\n",
       "       [0.1, 1.1],\n",
       "       [0.2, 1.2],\n",
       "       [0.4, 1.5],\n",
       "       [0.4, 1.3],\n",
       "       [0.3, 1.4],\n",
       "       [0.3, 1.7],\n",
       "       [0.3, 1.5],\n",
       "       [0.2, 1.7],\n",
       "       [0.4, 1.5],\n",
       "       [0.2, 1. ],\n",
       "       [0.5, 1.7],\n",
       "       [0.2, 1.9],\n",
       "       [0.2, 1.6],\n",
       "       [0.4, 1.6],\n",
       "       [0.2, 1.5],\n",
       "       [0.2, 1.4],\n",
       "       [0.2, 1.6],\n",
       "       [0.2, 1.6],\n",
       "       [0.4, 1.5],\n",
       "       [0.1, 1.5],\n",
       "       [0.2, 1.4],\n",
       "       [0.1, 1.5],\n",
       "       [0.2, 1.2],\n",
       "       [0.2, 1.3],\n",
       "       [0.1, 1.5],\n",
       "       [0.2, 1.3],\n",
       "       [0.2, 1.5],\n",
       "       [0.3, 1.3],\n",
       "       [0.3, 1.3],\n",
       "       [0.2, 1.3],\n",
       "       [0.6, 1.6],\n",
       "       [0.4, 1.9],\n",
       "       [0.3, 1.4],\n",
       "       [0.2, 1.6],\n",
       "       [0.2, 1.4],\n",
       "       [0.2, 1.5],\n",
       "       [0.2, 1.4],\n",
       "       [1.4, 4.7],\n",
       "       [1.5, 4.5],\n",
       "       [1.5, 4.9],\n",
       "       [1.3, 4. ],\n",
       "       [1.5, 4.6],\n",
       "       [1.3, 4.5],\n",
       "       [1.6, 4.7],\n",
       "       [1. , 3.3],\n",
       "       [1.3, 4.6],\n",
       "       [1.4, 3.9],\n",
       "       [1. , 3.5],\n",
       "       [1.5, 4.2],\n",
       "       [1. , 4. ],\n",
       "       [1.4, 4.7],\n",
       "       [1.3, 3.6],\n",
       "       [1.4, 4.4],\n",
       "       [1.5, 4.5],\n",
       "       [1. , 4.1],\n",
       "       [1.5, 4.5],\n",
       "       [1.1, 3.9],\n",
       "       [1.8, 4.8],\n",
       "       [1.3, 4. ],\n",
       "       [1.5, 4.9],\n",
       "       [1.2, 4.7],\n",
       "       [1.3, 4.3],\n",
       "       [1.4, 4.4],\n",
       "       [1.4, 4.8],\n",
       "       [1.7, 5. ],\n",
       "       [1.5, 4.5],\n",
       "       [1. , 3.5],\n",
       "       [1.1, 3.8],\n",
       "       [1. , 3.7],\n",
       "       [1.2, 3.9],\n",
       "       [1.6, 5.1],\n",
       "       [1.5, 4.5],\n",
       "       [1.6, 4.5],\n",
       "       [1.5, 4.7],\n",
       "       [1.3, 4.4],\n",
       "       [1.3, 4.1],\n",
       "       [1.3, 4. ],\n",
       "       [1.2, 4.4],\n",
       "       [1.4, 4.6],\n",
       "       [1.2, 4. ],\n",
       "       [1. , 3.3],\n",
       "       [1.3, 4.2],\n",
       "       [1.2, 4.2],\n",
       "       [1.3, 4.2],\n",
       "       [1.3, 4.3],\n",
       "       [1.1, 3. ],\n",
       "       [1.3, 4.1],\n",
       "       [2.5, 6. ],\n",
       "       [1.9, 5.1],\n",
       "       [2.1, 5.9],\n",
       "       [1.8, 5.6],\n",
       "       [2.2, 5.8],\n",
       "       [2.1, 6.6],\n",
       "       [1.7, 4.5],\n",
       "       [1.8, 6.3],\n",
       "       [1.8, 5.8],\n",
       "       [2.5, 6.1],\n",
       "       [2. , 5.1],\n",
       "       [1.9, 5.3],\n",
       "       [2.1, 5.5],\n",
       "       [2. , 5. ],\n",
       "       [2.4, 5.1],\n",
       "       [2.3, 5.3],\n",
       "       [1.8, 5.5],\n",
       "       [2.2, 6.7],\n",
       "       [2.3, 6.9],\n",
       "       [1.5, 5. ],\n",
       "       [2.3, 5.7],\n",
       "       [2. , 4.9],\n",
       "       [2. , 6.7],\n",
       "       [1.8, 4.9],\n",
       "       [2.1, 5.7],\n",
       "       [1.8, 6. ],\n",
       "       [1.8, 4.8],\n",
       "       [1.8, 4.9],\n",
       "       [2.1, 5.6],\n",
       "       [1.6, 5.8],\n",
       "       [1.9, 6.1],\n",
       "       [2. , 6.4],\n",
       "       [2.2, 5.6],\n",
       "       [1.5, 5.1],\n",
       "       [1.4, 5.6],\n",
       "       [2.3, 6.1],\n",
       "       [2.4, 5.6],\n",
       "       [1.8, 5.5],\n",
       "       [1.8, 4.8],\n",
       "       [2.1, 5.4],\n",
       "       [2.4, 5.6],\n",
       "       [2.3, 5.1],\n",
       "       [1.9, 5.1],\n",
       "       [2.3, 5.9],\n",
       "       [2.5, 5.7],\n",
       "       [2.3, 5.2],\n",
       "       [1.9, 5. ],\n",
       "       [2. , 5.2],\n",
       "       [2.3, 5.4],\n",
       "       [1.8, 5.1]])"
      ]
     },
     "execution_count": 9,
     "metadata": {},
     "output_type": "execute_result"
    }
   ],
   "source": [
    "X"
   ]
  },
  {
   "cell_type": "code",
   "execution_count": 10,
   "id": "85843904",
   "metadata": {},
   "outputs": [
    {
     "data": {
      "text/plain": [
       "<matplotlib.collections.PathCollection at 0x1dc9af99f70>"
      ]
     },
     "execution_count": 10,
     "metadata": {},
     "output_type": "execute_result"
    },
    {
     "data": {
      "image/png": "[encoded data removed]",
      "text/plain": [
       "<Figure size 432x288 with 1 Axes>"
      ]
     },
     "metadata": {
      "needs_background": "light"
     },
     "output_type": "display_data"
    }
   ],
   "source": [
    "# plotting cluster predictions using complete euclidean model in scatter graph\n",
    "cluster = AgglomerativeClustering(n_clusters=3, affinity='euclidean', linkage='complete')\n",
    "cluster.fit_predict(X)\n",
    "plt.scatter(X[:,0], X[:,1], c=cluster.labels_)"
   ]
  },
  {
   "cell_type": "code",
   "execution_count": 11,
   "id": "e3c0c396",
   "metadata": {},
   "outputs": [
    {
     "name": "stdout",
     "output_type": "stream",
     "text": [
      "The silhouette score is 0.66\n"
     ]
    }
   ],
   "source": [
    "score = round(silhouette_score(X, cluster.labels_, metric='euclidean'),2)\n",
    "print(f'The silhouette score is {score}')"
   ]
  },
  {
   "cell_type": "markdown",
   "id": "a28cd0fd",
   "metadata": {},
   "source": [
    "I am confident in my clustering solution as it got the same score as the kmeans one "
   ]
  },
  {
   "cell_type": "code",
   "execution_count": null,
   "id": "e6ce198c",
   "metadata": {},
   "outputs": [],
   "source": []
  }
 ],
 "metadata": {
  "kernelspec": {
   "display_name": "Python 3 (ipykernel)",
   "language": "python",
   "name": "python3"
  },
  "language_info": {
   "codemirror_mode": {
    "name": "ipython",
    "version": 3
   },
   "file_extension": ".py",
   "mimetype": "text/x-python",
   "name": "python",
   "nbconvert_exporter": "python",
   "pygments_lexer": "ipython3",
   "version": "3.9.5"
  }
 },
 "nbformat": 4,
 "nbformat_minor": 5
}
