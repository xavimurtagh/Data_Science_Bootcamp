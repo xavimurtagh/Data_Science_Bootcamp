{
 "cells": [
  {
   "cell_type": "code",
   "execution_count": 84,
   "id": "f329f75b",
   "metadata": {},
   "outputs": [],
   "source": [
    "import numpy as np\n",
    "import pandas as pd\n",
    "import seaborn as sns\n",
    "import ast, json\n",
    "from mpl_toolkits.mplot3d import Axes3D\n",
    "\n",
    "from datetime import datetime\n",
    "import matplotlib.pyplot as plt\n",
    "%matplotlib inline\n"
   ]
  },
  {
   "cell_type": "code",
   "execution_count": 85,
   "id": "87700a1f",
   "metadata": {},
   "outputs": [],
   "source": [
    "df = pd.read_csv(\"wine.csv\")\n",
    "df = df.drop_duplicates()"
   ]
  },
  {
   "cell_type": "code",
   "execution_count": 86,
   "id": "21136466",
   "metadata": {},
   "outputs": [
    {
     "data": {
      "text/html": [
       "<div>\n",
       "<style scoped>\n",
       "    .dataframe tbody tr th:only-of-type {\n",
       "        vertical-align: middle;\n",
       "    }\n",
       "\n",
       "    .dataframe tbody tr th {\n",
       "        vertical-align: top;\n",
       "    }\n",
       "\n",
       "    .dataframe thead th {\n",
       "        text-align: right;\n",
       "    }\n",
       "</style>\n",
       "<table border=\"1\" class=\"dataframe\">\n",
       "  <thead>\n",
       "    <tr style=\"text-align: right;\">\n",
       "      <th></th>\n",
       "      <th>Unnamed: 0</th>\n",
       "      <th>country</th>\n",
       "      <th>description</th>\n",
       "      <th>designation</th>\n",
       "      <th>points</th>\n",
       "      <th>price</th>\n",
       "      <th>province</th>\n",
       "      <th>region_1</th>\n",
       "      <th>region_2</th>\n",
       "      <th>variety</th>\n",
       "      <th>winery</th>\n",
       "    </tr>\n",
       "  </thead>\n",
       "  <tbody>\n",
       "    <tr>\n",
       "      <th>0</th>\n",
       "      <td>0</td>\n",
       "      <td>US</td>\n",
       "      <td>This tremendous 100% varietal wine hails from ...</td>\n",
       "      <td>Martha's Vineyard</td>\n",
       "      <td>96</td>\n",
       "      <td>235.0</td>\n",
       "      <td>California</td>\n",
       "      <td>Napa Valley</td>\n",
       "      <td>Napa</td>\n",
       "      <td>Cabernet Sauvignon</td>\n",
       "      <td>Heitz</td>\n",
       "    </tr>\n",
       "    <tr>\n",
       "      <th>1</th>\n",
       "      <td>1</td>\n",
       "      <td>Spain</td>\n",
       "      <td>Ripe aromas of fig, blackberry and cassis are ...</td>\n",
       "      <td>Carodorum Selecci√≥n Especial Reserva</td>\n",
       "      <td>96</td>\n",
       "      <td>110.0</td>\n",
       "      <td>Northern Spain</td>\n",
       "      <td>Toro</td>\n",
       "      <td>NaN</td>\n",
       "      <td>Tinta de Toro</td>\n",
       "      <td>Bodega Carmen Rodr√≠guez</td>\n",
       "    </tr>\n",
       "    <tr>\n",
       "      <th>2</th>\n",
       "      <td>2</td>\n",
       "      <td>US</td>\n",
       "      <td>Mac Watson honors the memory of a wine once ma...</td>\n",
       "      <td>Special Selected Late Harvest</td>\n",
       "      <td>96</td>\n",
       "      <td>90.0</td>\n",
       "      <td>California</td>\n",
       "      <td>Knights Valley</td>\n",
       "      <td>Sonoma</td>\n",
       "      <td>Sauvignon Blanc</td>\n",
       "      <td>Macauley</td>\n",
       "    </tr>\n",
       "    <tr>\n",
       "      <th>3</th>\n",
       "      <td>3</td>\n",
       "      <td>US</td>\n",
       "      <td>This spent 20 months in 30% new French oak, an...</td>\n",
       "      <td>Reserve</td>\n",
       "      <td>96</td>\n",
       "      <td>65.0</td>\n",
       "      <td>Oregon</td>\n",
       "      <td>Willamette Valley</td>\n",
       "      <td>Willamette Valley</td>\n",
       "      <td>Pinot Noir</td>\n",
       "      <td>Ponzi</td>\n",
       "    </tr>\n",
       "    <tr>\n",
       "      <th>4</th>\n",
       "      <td>4</td>\n",
       "      <td>France</td>\n",
       "      <td>This is the top wine from La B√©gude, named af...</td>\n",
       "      <td>La Br√ªlade</td>\n",
       "      <td>95</td>\n",
       "      <td>66.0</td>\n",
       "      <td>Provence</td>\n",
       "      <td>Bandol</td>\n",
       "      <td>NaN</td>\n",
       "      <td>Provence red blend</td>\n",
       "      <td>Domaine de la B√©gude</td>\n",
       "    </tr>\n",
       "  </tbody>\n",
       "</table>\n",
       "</div>"
      ],
      "text/plain": [
       "   Unnamed: 0 country                                        description  \\\n",
       "0           0      US  This tremendous 100% varietal wine hails from ...   \n",
       "1           1   Spain  Ripe aromas of fig, blackberry and cassis are ...   \n",
       "2           2      US  Mac Watson honors the memory of a wine once ma...   \n",
       "3           3      US  This spent 20 months in 30% new French oak, an...   \n",
       "4           4  France  This is the top wine from La B√©gude, named af...   \n",
       "\n",
       "                             designation  points  price        province  \\\n",
       "0                      Martha's Vineyard      96  235.0      California   \n",
       "1  Carodorum Selecci√≥n Especial Reserva      96  110.0  Northern Spain   \n",
       "2          Special Selected Late Harvest      96   90.0      California   \n",
       "3                                Reserve      96   65.0          Oregon   \n",
       "4                            La Br√ªlade      95   66.0        Provence   \n",
       "\n",
       "            region_1           region_2             variety  \\\n",
       "0        Napa Valley               Napa  Cabernet Sauvignon   \n",
       "1               Toro                NaN       Tinta de Toro   \n",
       "2     Knights Valley             Sonoma     Sauvignon Blanc   \n",
       "3  Willamette Valley  Willamette Valley          Pinot Noir   \n",
       "4             Bandol                NaN  Provence red blend   \n",
       "\n",
       "                     winery  \n",
       "0                     Heitz  \n",
       "1  Bodega Carmen Rodr√≠guez  \n",
       "2                  Macauley  \n",
       "3                     Ponzi  \n",
       "4     Domaine de la B√©gude  "
      ]
     },
     "execution_count": 86,
     "metadata": {},
     "output_type": "execute_result"
    }
   ],
   "source": [
    "df.head()"
   ]
  },
  {
   "cell_type": "markdown",
   "id": "44c3f2b4",
   "metadata": {},
   "source": [
    "#### The aim of this EDA is to see what effects points for wine"
   ]
  },
  {
   "cell_type": "markdown",
   "id": "c3a9e2f9",
   "metadata": {},
   "source": [
    "## Data Cleaning"
   ]
  },
  {
   "cell_type": "markdown",
   "id": "f6d3c1fa",
   "metadata": {},
   "source": [
    "First i will check how many empty fields there are"
   ]
  },
  {
   "cell_type": "code",
   "execution_count": 87,
   "id": "1afe62ef",
   "metadata": {},
   "outputs": [
    {
     "data": {
      "text/plain": [
       "Unnamed: 0       0\n",
       "country          0\n",
       "description      0\n",
       "designation    269\n",
       "points           0\n",
       "price           57\n",
       "province         0\n",
       "region_1       173\n",
       "region_2       611\n",
       "variety          0\n",
       "winery           0\n",
       "dtype: int64"
      ]
     },
     "execution_count": 87,
     "metadata": {},
     "output_type": "execute_result"
    }
   ],
   "source": [
    "# get the number of missing data points per column\n",
    "missing_values_count = df.isnull().sum()\n",
    "\n",
    "# look at the # of missing points in the first ten columns\n",
    "missing_values_count"
   ]
  },
  {
   "cell_type": "markdown",
   "id": "1e240752",
   "metadata": {},
   "source": [
    "As i'm not planning on using unamed 0, designation, region, country, description, designation, price, region1/2, and winery ive decided to remove them and fortunately that gets rid off all my null values"
   ]
  },
  {
   "cell_type": "code",
   "execution_count": 88,
   "id": "ebee28f5",
   "metadata": {},
   "outputs": [],
   "source": [
    "df.drop('designation',axis=1, inplace=True)\n",
    "df.drop('Unnamed: 0',axis=1, inplace=True)\n",
    "df.drop('country',axis=1, inplace=True)\n",
    "df.drop('description',axis=1, inplace=True)\n",
    "df.drop('price',axis=1, inplace=True)\n",
    "df.drop('region_1',axis=1, inplace=True)\n",
    "df.drop('region_2',axis=1, inplace=True)\n",
    "df.drop('winery',axis=1, inplace=True)"
   ]
  },
  {
   "cell_type": "markdown",
   "id": "17b4fc12",
   "metadata": {},
   "source": [
    "Now that there are no null rows ill check in case any rows contain unexpected values and if they do ill remove the row"
   ]
  },
  {
   "cell_type": "code",
   "execution_count": 89,
   "id": "bc915a53",
   "metadata": {},
   "outputs": [
    {
     "data": {
      "text/plain": [
       "array(['Agiorgitiko', 'Aglianico', 'Albari√±o', 'Alicante Bouschet',\n",
       "       'Alsace white blend', 'Alvarinho', 'Aragon√™s', 'Assyrtiko',\n",
       "       'Baga', 'Barbera', 'Blauburgunder', 'Blaufr√§nkisch',\n",
       "       'Bordeaux-style Red Blend', 'Bordeaux-style White Blend',\n",
       "       'Cabernet Franc', 'Cabernet Sauvignon',\n",
       "       'Cabernet Sauvignon-Cabernet Franc', 'Cabernet Sauvignon-Merlot',\n",
       "       'Cabernet Sauvignon-Syrah', 'Carignane', 'Carmen√®re',\n",
       "       'Champagne Blend', 'Charbono', 'Chardonnay', 'Chasselas',\n",
       "       'Chenin Blanc', 'Chenin Blanc-Chardonnay', 'Duras', 'Frappato',\n",
       "       'Friulano', 'Fr√ºburgunder', 'Fum√© Blanc', 'Furmint', 'G-S-M',\n",
       "       'Gamay', 'Garganega', 'Garnacha', 'Gew√ºrztraminer', 'Glera',\n",
       "       'Godello', 'Greco', 'Grenache', 'Grenache-Syrah', 'Gros Manseng',\n",
       "       'Gros and Petit Manseng', 'Gr√ºner Veltliner', 'Kekfrankos',\n",
       "       'Lemberger', 'Malagouzia', 'Malbec', 'Malbec-Cabernet Sauvignon',\n",
       "       'Malbec-Merlot', 'Malvasia Bianca', 'Mavrud', 'Menc√≠a',\n",
       "       'Meritage', 'Merlot', 'Merlot-Malbec', 'Monastrell', 'Moscato',\n",
       "       'Mourv√®dre', 'Muscat', 'Nebbiolo', 'Negrette', 'Negroamaro',\n",
       "       'Nerello Mascalese', \"Nero d'Avola\", 'Palomino', 'Petit Verdot',\n",
       "       'Petite Sirah', 'Petite Verdot', 'Picpoul', 'Pinot Bianco',\n",
       "       'Pinot Blanc', 'Pinot Grigio', 'Pinot Gris', 'Pinot Nero',\n",
       "       'Pinot Noir', 'Pinot Noir-Gamay', 'Portuguese Red',\n",
       "       'Portuguese Ros√©', 'Portuguese Sparkling', 'Portuguese White',\n",
       "       'Posip', 'Primitivo', 'Pri√© Blanc', 'Provence red blend',\n",
       "       'Red Blend', 'Rh√¥ne-style Red Blend', 'Rh√¥ne-style White Blend',\n",
       "       'Ribolla Gialla', 'Riesling', 'Romorantin', 'Ros√©', 'Sangiovese',\n",
       "       'Sauvignon', 'Sauvignon Blanc', 'Scheurebe',\n",
       "       'Semillon-Sauvignon Blanc', 'Sherry', 'Shiraz', 'Silvaner',\n",
       "       'Sparkling Blend', 'St. Laurent', 'Sylvaner', 'Syrah',\n",
       "       'Syrah-Cabernet Sauvignon', 'Syrah-Grenache', 'Tannat',\n",
       "       'Tannat-Cabernet', 'Tannat-Merlot', 'Tempranillo',\n",
       "       'Tempranillo Blend', 'Tinta Francisca', 'Tinta de Toro',\n",
       "       'Torront√©s', 'Touriga Nacional', 'Turbiana', 'Ugni Blanc',\n",
       "       'Ugni Blanc-Colombard', 'Vermentino', 'Viognier', 'White Blend',\n",
       "       'Zinfandel'], dtype=object)"
      ]
     },
     "execution_count": 89,
     "metadata": {},
     "output_type": "execute_result"
    }
   ],
   "source": [
    "df['points'].unique()\n",
    "province = df['province'].unique()\n",
    "province.sort()\n",
    "\n",
    "variety = df['variety'].unique()\n",
    "variety.sort()\n",
    "variety\n",
    "#province"
   ]
  },
  {
   "cell_type": "code",
   "execution_count": 90,
   "id": "da661073",
   "metadata": {},
   "outputs": [
    {
     "data": {
      "text/plain": [
       "[('Silvaner', 100),\n",
       " ('Sylvaner', 88),\n",
       " ('Friulano', 50),\n",
       " (\"Nero d'Avola\", 50),\n",
       " ('Viognier', 50),\n",
       " ('Blauburgunder', 48),\n",
       " ('Alvarinho', 47),\n",
       " ('Carignane', 47),\n",
       " ('Pri√© Blanc', 47),\n",
       " ('Zinfandel', 47)]"
      ]
     },
     "execution_count": 90,
     "metadata": {},
     "output_type": "execute_result"
    }
   ],
   "source": [
    "from fuzzywuzzy import process\n",
    "\n",
    "# finding lowest match for each\n",
    "matches = fuzzywuzzy.process.extract(\"Silvaner\", variety, limit=10, scorer=fuzzywuzzy.fuzz.token_sort_ratio)\n",
    "matches"
   ]
  },
  {
   "cell_type": "code",
   "execution_count": 91,
   "id": "d48a23df",
   "metadata": {},
   "outputs": [],
   "source": [
    "# function to replace rows in the provided column of the provided dataframe\n",
    "# that match the provided string above the provided ratio with the provided string\n",
    "def replace_matches_in_column(df, column, string_to_match, min_ratio):\n",
    "   \n",
    "    # get a list of unique strings\n",
    "    strings = df[column].unique()\n",
    "    \n",
    "    # get the top 10 closest matches to our input string\n",
    "    matches = fuzzywuzzy.process.extract(string_to_match, strings, \n",
    "                                         limit=10, scorer=fuzzywuzzy.fuzz.token_sort_ratio)\n",
    "\n",
    "    # only get matches with a ratio > 90\n",
    "    close_matches = [matches[0] for matches in matches if matches[1] >= min_ratio]\n",
    "\n",
    "    # get the rows of all the close matches in our dataframe\n",
    "    rows_with_matches = df[column].isin(close_matches)\n",
    "\n",
    "    # replace all rows with close matches with the input matches \n",
    "    df.loc[rows_with_matches, column] = string_to_match\n",
    "    \n",
    "    # let us know the function's done\n",
    "    print(\"All done!\")"
   ]
  },
  {
   "cell_type": "code",
   "execution_count": 92,
   "id": "0c2f2895",
   "metadata": {},
   "outputs": [
    {
     "name": "stdout",
     "output_type": "stream",
     "text": [
      "All done!\n",
      "All done!\n",
      "All done!\n",
      "All done!\n",
      "All done!\n",
      "All done!\n"
     ]
    },
    {
     "data": {
      "text/plain": [
       "array(['Agiorgitiko', 'Aglianico', 'Albari√±o', 'Alicante Bouschet',\n",
       "       'Alsace white blend', 'Alvarinho', 'Aragon√™s', 'Assyrtiko',\n",
       "       'Baga', 'Barbera', 'Blauburgunder', 'Blaufr√§nkisch',\n",
       "       'Bordeaux-style Red Blend', 'Bordeaux-style White Blend',\n",
       "       'Cabernet Franc', 'Cabernet Sauvignon',\n",
       "       'Cabernet Sauvignon-Cabernet Franc', 'Cabernet Sauvignon-Merlot',\n",
       "       'Cabernet Sauvignon-Syrah', 'Carignane', 'Carmen√®re',\n",
       "       'Champagne Blend', 'Charbono', 'Chardonnay', 'Chasselas',\n",
       "       'Chenin Blanc', 'Chenin Blanc-Chardonnay', 'Duras', 'Frappato',\n",
       "       'Friulano', 'Fr√ºburgunder', 'Fum√© Blanc', 'Furmint', 'G-S-M',\n",
       "       'Gamay', 'Garganega', 'Gew√ºrztraminer', 'Glera', 'Godello',\n",
       "       'Greco', 'Grenache', 'Grenache-Syrah', 'Gros Manseng',\n",
       "       'Gros and Petit Manseng', 'Gr√ºner Veltliner', 'Kekfrankos',\n",
       "       'Lemberger', 'Malagouzia', 'Malbec', 'Malbec-Cabernet Sauvignon',\n",
       "       'Malbec-Merlot', 'Malvasia Bianca', 'Mavrud', 'Menc√≠a',\n",
       "       'Meritage', 'Merlot', 'Merlot-Malbec', 'Monastrell', 'Mourv√®dre',\n",
       "       'Muscat', 'Nebbiolo', 'Negrette', 'Negroamaro',\n",
       "       'Nerello Mascalese', \"Nero d'Avola\", 'Palomino', 'Petit Nero',\n",
       "       'Petit Verdot', 'Petite Sirah', 'Picpoul', 'Pinot Bianco',\n",
       "       'Pinot Blanc', 'Pinot Grigio', 'Pinot Gris', 'Pinot Noir',\n",
       "       'Pinot Noir-Gamay', 'Portuguese Red', 'Portuguese Ros√©',\n",
       "       'Portuguese Sparkling', 'Portuguese White', 'Posip', 'Primitivo',\n",
       "       'Pri√© Blanc', 'Provence red blend', 'Red Blend',\n",
       "       'Rh√¥ne-style Red Blend', 'Rh√¥ne-style White Blend',\n",
       "       'Ribolla Gialla', 'Riesling', 'Romorantin', 'Ros√©', 'Sangiovese',\n",
       "       'Sauvignon', 'Sauvignon Blanc', 'Scheurebe',\n",
       "       'Semillon-Sauvignon Blanc', 'Sherry', 'Shiraz', 'Silvaner',\n",
       "       'Sparkling Blend', 'St. Laurent', 'Syrah',\n",
       "       'Syrah-Cabernet Sauvignon', 'Syrah-Grenache', 'Tannat',\n",
       "       'Tannat-Cabernet', 'Tannat-Merlot', 'Tempranillo',\n",
       "       'Tempranillo Blend', 'Tinta Francisca', 'Tinta de Toro',\n",
       "       'Torront√©s', 'Touriga Nacional', 'Turbiana', 'Ugni Blanc',\n",
       "       'Ugni Blanc-Colombard', 'Vermentino', 'Viognier', 'White Blend',\n",
       "       'Zinfandel'], dtype=object)"
      ]
     },
     "execution_count": 92,
     "metadata": {},
     "output_type": "execute_result"
    }
   ],
   "source": [
    "replace_matches_in_column(df, column='variety', string_to_match=\"Muscat\", min_ratio=77)\n",
    "replace_matches_in_column(df, column='variety', string_to_match=\"Grenache\", min_ratio=75)\n",
    "replace_matches_in_column(df, column='variety', string_to_match=\"Petit Verdot\", min_ratio=96)\n",
    "replace_matches_in_column(df, column='variety', string_to_match=\"Petit Bianco\", min_ratio=87)\n",
    "replace_matches_in_column(df, column='variety', string_to_match=\"Petit Nero\", min_ratio=80)\n",
    "replace_matches_in_column(df, column='variety', string_to_match=\"Silvaner\", min_ratio=88)\n",
    "variety = df['variety'].unique()\n",
    "variety.sort()\n",
    "variety"
   ]
  },
  {
   "cell_type": "markdown",
   "id": "27f80842",
   "metadata": {},
   "source": [
    "Now that all the rows are correct ill convert points to int and then begin performing on the data"
   ]
  },
  {
   "cell_type": "code",
   "execution_count": 93,
   "id": "bdb28252",
   "metadata": {},
   "outputs": [],
   "source": [
    "df['points'] = df['points'].astype('int')"
   ]
  },
  {
   "cell_type": "markdown",
   "id": "501e4511",
   "metadata": {},
   "source": [
    "## Exploration"
   ]
  },
  {
   "cell_type": "code",
   "execution_count": 94,
   "id": "a1a256c9",
   "metadata": {},
   "outputs": [
    {
     "data": {
      "text/plain": [
       "<Figure size 432x288 with 0 Axes>"
      ]
     },
     "metadata": {},
     "output_type": "display_data"
    },
    {
     "data": {
      "image/png": "[encoded data removed]",
      "text/plain": [
       "<Figure size 224x648 with 3 Axes>"
      ]
     },
     "metadata": {
      "needs_background": "light"
     },
     "output_type": "display_data"
    }
   ],
   "source": [
    "# What effect do each of “Cabernet Sauvignon”,“Pinot Noir”and“Chardonnay” have on price\n",
    "variety = df[df['variety'].isin(['Cabernet Sauvignon','Pinot Noir','Chardonnay'])]\n",
    "\n",
    "plt.figure()\n",
    "fg=sns.FacetGrid(variety,row=\"variety\",margin_titles=True)\n",
    "fg.map(sns.histplot,\"province\",\"points\")\n",
    "fg.add_legend()\n",
    "plt.show()\n",
    "plt.close()\n"
   ]
  },
  {
   "cell_type": "code",
   "execution_count": 95,
   "id": "564d0de8",
   "metadata": {},
   "outputs": [
    {
     "name": "stderr",
     "output_type": "stream",
     "text": [
      "C:\\Users\\xavim\\AppData\\Local\\Temp/ipykernel_7264/3775266561.py:2: FutureWarning: Dropping of nuisance columns in DataFrame reductions (with 'numeric_only=None') is deprecated; in a future version this will raise TypeError.  Select only valid columns before calling the reduction.\n",
      "  c = df[df['variety'].isin(['Cabernet Sauvignon'])].mean()\n",
      "C:\\Users\\xavim\\AppData\\Local\\Temp/ipykernel_7264/3775266561.py:4: FutureWarning: Dropping of nuisance columns in DataFrame reductions (with 'numeric_only=None') is deprecated; in a future version this will raise TypeError.  Select only valid columns before calling the reduction.\n",
      "  p = df[df['variety'].isin(['Pinot Noir'])].mean()\n",
      "C:\\Users\\xavim\\AppData\\Local\\Temp/ipykernel_7264/3775266561.py:6: FutureWarning: Dropping of nuisance columns in DataFrame reductions (with 'numeric_only=None') is deprecated; in a future version this will raise TypeError.  Select only valid columns before calling the reduction.\n",
      "  y = df[df['variety'].isin(['Chardonnay'])].mean()\n"
     ]
    },
    {
     "data": {
      "text/plain": [
       "points    89.815534\n",
       "dtype: float64"
      ]
     },
     "execution_count": 95,
     "metadata": {},
     "output_type": "execute_result"
    }
   ],
   "source": [
    "variety['points'].mean()\n",
    "c = df[df['variety'].isin(['Cabernet Sauvignon'])].mean()\n",
    "c\n",
    "p = df[df['variety'].isin(['Pinot Noir'])].mean()\n",
    "p\n",
    "y = df[df['variety'].isin(['Chardonnay'])].mean()\n",
    "y"
   ]
  },
  {
   "cell_type": "markdown",
   "id": "bf0ed672",
   "metadata": {},
   "source": [
    "From the histograms the average points for each one of these varieties seems to be around 90 and all 3 seem to have roughly the same average points. This is supported by the code i ran in the above cell. The variety with the most in the highest bracket of points is piont noir which also has 2 different provinces in the top bracket of points. "
   ]
  },
  {
   "cell_type": "code",
   "execution_count": 96,
   "id": "7f6be8eb",
   "metadata": {},
   "outputs": [
    {
     "data": {
      "image/png": "[encoded data removed]",
      "text/plain": [
       "<Figure size 432x288 with 1 Axes>"
      ]
     },
     "metadata": {
      "needs_background": "light"
     },
     "output_type": "display_data"
    }
   ],
   "source": [
    "# wordcloud for cabernet sauvignon\n",
    "from wordcloud import WordCloud\n",
    "\n",
    "c = df[df['variety'].isin(['Cabernet Sauvignon'])]['province']\n",
    "text = ','.join(c)\n",
    "wordcloud = WordCloud(width =500, height =500, margin=10).generate(text)\n",
    "plt.imshow(wordcloud, interpolation =\"bilinear\")\n",
    "plt.axis(\"off\")\n",
    "plt.margins(x =0, y =0)\n",
    "plt.show()\n"
   ]
  },
  {
   "cell_type": "code",
   "execution_count": 97,
   "id": "983518c1",
   "metadata": {},
   "outputs": [
    {
     "data": {
      "image/png": "[encoded data removed]",
      "text/plain": [
       "<Figure size 432x288 with 1 Axes>"
      ]
     },
     "metadata": {
      "needs_background": "light"
     },
     "output_type": "display_data"
    }
   ],
   "source": [
    "# wordcloud for Pinot Noir\n",
    "p = df[df['variety'].isin(['Pinot Noir'])]['province']\n",
    "text = ' '.join(p)\n",
    "wordcloud = WordCloud(width =500, height =500, margin=10).generate(text)\n",
    "plt.imshow(wordcloud, interpolation =\"bilinear\")\n",
    "plt.axis(\"off\")\n",
    "plt.margins(x =0, y =0)\n",
    "plt.show()"
   ]
  },
  {
   "cell_type": "code",
   "execution_count": 98,
   "id": "5f1b9a95",
   "metadata": {},
   "outputs": [
    {
     "data": {
      "image/png": "[encoded data removed]",
      "text/plain": [
       "<Figure size 432x288 with 1 Axes>"
      ]
     },
     "metadata": {
      "needs_background": "light"
     },
     "output_type": "display_data"
    }
   ],
   "source": [
    "# wordcloud for Chardonnay\n",
    "y = df[df['variety'].isin(['Chardonnay'])]['province']\n",
    "text = ' '.join(y)\n",
    "wordcloud = WordCloud(width =500, height =500, margin=10).generate(text)\n",
    "plt.imshow(wordcloud, interpolation =\"bilinear\")\n",
    "plt.axis(\"off\")\n",
    "plt.margins(x =0, y =0)\n",
    "plt.show()"
   ]
  },
  {
   "cell_type": "code",
   "execution_count": null,
   "id": "6de7f654",
   "metadata": {},
   "outputs": [],
   "source": []
  }
 ],
 "metadata": {
  "kernelspec": {
   "display_name": "Python 3 (ipykernel)",
   "language": "python",
   "name": "python3"
  },
  "language_info": {
   "codemirror_mode": {
    "name": "ipython",
    "version": 3
   },
   "file_extension": ".py",
   "mimetype": "text/x-python",
   "name": "python",
   "nbconvert_exporter": "python",
   "pygments_lexer": "ipython3",
   "version": "3.9.5"
  }
 },
 "nbformat": 4,
 "nbformat_minor": 5
}
