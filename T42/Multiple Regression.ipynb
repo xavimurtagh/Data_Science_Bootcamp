{
 "cells": [
  {
   "cell_type": "markdown",
   "metadata": {
    "colab_type": "text",
    "id": "UcpXBt0vdsr9"
   },
   "source": [
    "#Simple and Multiple linear regression"
   ]
  },
  {
   "cell_type": "code",
   "execution_count": 18,
   "metadata": {
    "colab": {
     "base_uri": "https://localhost:8080/",
     "height": 221
    },
    "colab_type": "code",
    "executionInfo": {
     "elapsed": 511,
     "status": "ok",
     "timestamp": 1562437282802,
     "user": {
      "displayName": "Esther van den Berg",
      "photoUrl": "",
      "userId": "04126586416623518388"
     },
     "user_tz": -120
    },
    "id": "FDB6l0UadssC",
    "outputId": "a3813644-d3ec-4009-e42d-2dc8b4d2cd1e"
   },
   "outputs": [
    {
     "data": {
      "text/html": [
       "<div>\n",
       "<style scoped>\n",
       "    .dataframe tbody tr th:only-of-type {\n",
       "        vertical-align: middle;\n",
       "    }\n",
       "\n",
       "    .dataframe tbody tr th {\n",
       "        vertical-align: top;\n",
       "    }\n",
       "\n",
       "    .dataframe thead th {\n",
       "        text-align: right;\n",
       "    }\n",
       "</style>\n",
       "<table border=\"1\" class=\"dataframe\">\n",
       "  <thead>\n",
       "    <tr style=\"text-align: right;\">\n",
       "      <th></th>\n",
       "      <th>TV</th>\n",
       "      <th>radio</th>\n",
       "      <th>newspaper</th>\n",
       "      <th>sales</th>\n",
       "    </tr>\n",
       "  </thead>\n",
       "  <tbody>\n",
       "    <tr>\n",
       "      <th>1</th>\n",
       "      <td>230.1</td>\n",
       "      <td>37.8</td>\n",
       "      <td>69.2</td>\n",
       "      <td>22.1</td>\n",
       "    </tr>\n",
       "    <tr>\n",
       "      <th>2</th>\n",
       "      <td>44.5</td>\n",
       "      <td>39.3</td>\n",
       "      <td>45.1</td>\n",
       "      <td>10.4</td>\n",
       "    </tr>\n",
       "    <tr>\n",
       "      <th>3</th>\n",
       "      <td>17.2</td>\n",
       "      <td>45.9</td>\n",
       "      <td>69.3</td>\n",
       "      <td>9.3</td>\n",
       "    </tr>\n",
       "    <tr>\n",
       "      <th>4</th>\n",
       "      <td>151.5</td>\n",
       "      <td>41.3</td>\n",
       "      <td>58.5</td>\n",
       "      <td>18.5</td>\n",
       "    </tr>\n",
       "    <tr>\n",
       "      <th>5</th>\n",
       "      <td>180.8</td>\n",
       "      <td>10.8</td>\n",
       "      <td>58.4</td>\n",
       "      <td>12.9</td>\n",
       "    </tr>\n",
       "  </tbody>\n",
       "</table>\n",
       "</div>"
      ],
      "text/plain": [
       "      TV  radio  newspaper  sales\n",
       "1  230.1   37.8       69.2   22.1\n",
       "2   44.5   39.3       45.1   10.4\n",
       "3   17.2   45.9       69.3    9.3\n",
       "4  151.5   41.3       58.5   18.5\n",
       "5  180.8   10.8       58.4   12.9"
      ]
     },
     "execution_count": 18,
     "metadata": {},
     "output_type": "execute_result"
    }
   ],
   "source": [
    "#Importing Libraries\n",
    "import numpy as np\n",
    "import pandas as pd\n",
    "import matplotlib.pyplot as plt\n",
    "from sklearn.linear_model import LinearRegression\n",
    "\n",
    "#Importing the dataset\n",
    "data = pd.read_csv(\"Advertising.csv\", index_col=0)\n",
    "data.head()"
   ]
  },
  {
   "cell_type": "markdown",
   "metadata": {
    "colab_type": "text",
    "id": "UeNj2ZJgfzPH"
   },
   "source": [
    "## TV Simple Linear Model"
   ]
  },
  {
   "cell_type": "code",
   "execution_count": 19,
   "metadata": {
    "colab": {},
    "colab_type": "code",
    "id": "d7wkHe-kgH8F"
   },
   "outputs": [],
   "source": [
    "x = data.iloc[:,0].values\n",
    "y = data.iloc[:,3].values\n",
    "y=y.reshape(-1, 1)\n",
    "x=x.reshape(-1, 1)"
   ]
  },
  {
   "cell_type": "code",
   "execution_count": 20,
   "metadata": {
    "colab": {
     "base_uri": "https://localhost:8080/",
     "height": 295
    },
    "colab_type": "code",
    "executionInfo": {
     "elapsed": 786,
     "status": "ok",
     "timestamp": 1562437350007,
     "user": {
      "displayName": "Esther van den Berg",
      "photoUrl": "",
      "userId": "04126586416623518388"
     },
     "user_tz": -120
    },
    "id": "nYXQ4-x2gJM0",
    "outputId": "078a8bd5-1858-4a8a-8dac-1555a1bed97a"
   },
   "outputs": [
    {
     "data": {
      "image/png": "[encoded data removed]",
      "text/plain": [
       "<Figure size 432x288 with 1 Axes>"
      ]
     },
     "metadata": {
      "needs_background": "light"
     },
     "output_type": "display_data"
    }
   ],
   "source": [
    "# create an empty linear regression model \n",
    "tv_model = LinearRegression()\n",
    "\n",
    "# to create the model, we use fit(x,y)\n",
    "tv_model.fit(x,y)\n",
    "\n",
    "y_pred = tv_model.predict(x)\n",
    "plt.scatter(x,y,color = 'b')\n",
    "plt.plot(x,tv_model.predict(x),color = 'r')\n",
    "plt.title('Sales v/s TV Budget')\n",
    "plt.xlabel('Sales')\n",
    "plt.ylabel('TV Budget')\n",
    "plt.show()\n"
   ]
  },
  {
   "cell_type": "markdown",
   "metadata": {
    "colab_type": "text",
    "id": "1Nj8X99bfoEg"
   },
   "source": [
    "## Radio Simple Linear Model"
   ]
  },
  {
   "cell_type": "code",
   "execution_count": 21,
   "metadata": {
    "colab": {},
    "colab_type": "code",
    "id": "z-TaTJftdssU"
   },
   "outputs": [],
   "source": [
    "x = data.iloc[:,1].values\n",
    "y = data.iloc[:,3].values\n",
    "y=y.reshape(-1, 1)\n",
    "x=x.reshape(-1, 1)"
   ]
  },
  {
   "cell_type": "code",
   "execution_count": 22,
   "metadata": {
    "colab": {},
    "colab_type": "code",
    "id": "PhOnE6O0dssc",
    "outputId": "d29ef204-074a-4a68-c75c-d500a4383348"
   },
   "outputs": [
    {
     "data": {
      "image/png": "[encoded data removed]",
      "text/plain": [
       "<Figure size 432x288 with 1 Axes>"
      ]
     },
     "metadata": {
      "needs_background": "light"
     },
     "output_type": "display_data"
    }
   ],
   "source": [
    "# create an empty linear regression model \n",
    "radio_model = LinearRegression()\n",
    "\n",
    "# to create the model, we use fit(x,y)\n",
    "radio_model.fit(x,y)\n",
    "\n",
    "y_pred = radio_model.predict(x)\n",
    "plt.scatter(x,y,color = 'b')\n",
    "plt.plot(x,radio_model.predict(x),color = 'r')\n",
    "plt.title('Sales v/s Radio Budget')\n",
    "plt.xlabel('Sales')\n",
    "plt.ylabel('Radio Budget')\n",
    "plt.show()\n"
   ]
  },
  {
   "cell_type": "code",
   "execution_count": 23,
   "metadata": {
    "colab": {},
    "colab_type": "code",
    "id": "Ospom7gFdssp",
    "outputId": "740653f3-e2e9-44e8-a0d6-70dfbd6328fd"
   },
   "outputs": [
    {
     "name": "stdout",
     "output_type": "stream",
     "text": [
      "Coefficients: \n",
      " [[0.20249578]]\n"
     ]
    }
   ],
   "source": [
    "# The coefficients\n",
    "print('Coefficients: \\n', radio_model.coef_)"
   ]
  },
  {
   "cell_type": "markdown",
   "metadata": {
    "colab_type": "text",
    "id": "GIiKBN3Bdssv"
   },
   "source": [
    "## Newspaper Simple Linear model"
   ]
  },
  {
   "cell_type": "code",
   "execution_count": 24,
   "metadata": {
    "colab": {},
    "colab_type": "code",
    "id": "LiMlPmADdssx"
   },
   "outputs": [],
   "source": [
    "x = data.iloc[:,2].values\n",
    "y = data.iloc[:,3].values\n",
    "y=y.reshape(-1, 1)\n",
    "x=x.reshape(-1, 1)"
   ]
  },
  {
   "cell_type": "code",
   "execution_count": 25,
   "metadata": {
    "colab": {},
    "colab_type": "code",
    "id": "8d-EMM8Ddss0",
    "outputId": "99385d28-d1a6-42d3-f2de-47a59416c261"
   },
   "outputs": [
    {
     "data": {
      "image/png": "[encoded data removed]",
      "text/plain": [
       "<Figure size 432x288 with 1 Axes>"
      ]
     },
     "metadata": {
      "needs_background": "light"
     },
     "output_type": "display_data"
    }
   ],
   "source": [
    "# create an empty linear regression model \n",
    "newspaper_model = LinearRegression()\n",
    "\n",
    "# to create the model, we use fit(x,y)\n",
    "newspaper_model.fit(x,y)\n",
    "\n",
    "y_pred = newspaper_model.predict(x)\n",
    "plt.scatter(x,y,color = 'b')\n",
    "plt.plot(x,newspaper_model.predict(x),color = 'r')\n",
    "plt.title('Sales v/s Newspaper Budget')\n",
    "plt.xlabel('Sales')\n",
    "plt.ylabel('Newspaper Budget')\n",
    "plt.show()\n"
   ]
  },
  {
   "cell_type": "code",
   "execution_count": 26,
   "metadata": {
    "colab": {},
    "colab_type": "code",
    "id": "pH9qw2cMdss4",
    "outputId": "bb39f690-c7a6-4e2a-92d3-213d867dfeaa"
   },
   "outputs": [
    {
     "name": "stdout",
     "output_type": "stream",
     "text": [
      "Coefficients: \n",
      " [[0.0546931]]\n"
     ]
    }
   ],
   "source": [
    "# The coefficients\n",
    "print('Coefficients: \\n', newspaper_model.coef_)"
   ]
  },
  {
   "cell_type": "markdown",
   "metadata": {
    "colab_type": "text",
    "id": "kKiMKGvadss8"
   },
   "source": [
    "## Multiple Linear Regression"
   ]
  },
  {
   "cell_type": "code",
   "execution_count": 27,
   "metadata": {
    "colab": {},
    "colab_type": "code",
    "id": "9zWFMrPodstA",
    "outputId": "2a0b6b23-ba3d-4b17-b430-fb8579883f59"
   },
   "outputs": [],
   "source": [
    "X = data.iloc[:,[1,2,3]].values\n",
    "y = data.iloc[:,3:4].values\n"
   ]
  },
  {
   "cell_type": "code",
   "execution_count": 28,
   "metadata": {
    "colab": {},
    "colab_type": "code",
    "id": "PCtPcnO-dstD",
    "outputId": "5e93ea11-50d9-4420-8130-66cc66929cfb"
   },
   "outputs": [
    {
     "name": "stdout",
     "output_type": "stream",
     "text": [
      "Intercept: \n",
      " [-3.55271368e-15]\n",
      "Coefficients: \n",
      " [[-1.31935427e-16  0.00000000e+00  1.00000000e+00]]\n"
     ]
    }
   ],
   "source": [
    "\n",
    "\n",
    "y = y.reshape(-1, 1)\n",
    "X = X.reshape(-1, 3)\n",
    "\n",
    "# create an empty linear regression model like below and give it a good variable name\n",
    "advertising_model = LinearRegression()\n",
    "\n",
    "# to create the model, we use fit(x,y)\n",
    "advertising_model.fit(X,y)\n",
    "\n",
    "\n",
    "print('Intercept: \\n', advertising_model.intercept_)\n",
    "print('Coefficients: \\n', advertising_model.coef_)\n"
   ]
  },
  {
   "cell_type": "markdown",
   "metadata": {
    "colab_type": "text",
    "id": "4IUMtOCDdstG"
   },
   "source": [
    "## Training and test samples"
   ]
  },
  {
   "cell_type": "code",
   "execution_count": 29,
   "metadata": {
    "colab": {},
    "colab_type": "code",
    "id": "OH7EHF7UdstH",
    "outputId": "30e63430-410e-4a79-9fe0-68f2c00799ae"
   },
   "outputs": [
    {
     "name": "stdout",
     "output_type": "stream",
     "text": [
      "Training data: (150, 3) (150, 1)\n",
      "Test data: (50, 3) (50, 1)\n"
     ]
    }
   ],
   "source": [
    "from sklearn.model_selection import train_test_split\n",
    "\n",
    "X_train, X_test, y_train, y_test = train_test_split(X,y,test_size = 0.25)\n",
    "\n",
    "print (\"Training data:\",X_train.shape, y_train.shape)\n",
    "print (\"Test data:\",X_test.shape, y_test.shape)\n",
    "\n"
   ]
  },
  {
   "cell_type": "markdown",
   "metadata": {
    "colab_type": "text",
    "id": "SMPAvLLvh3QS"
   },
   "source": [
    "Using a 0.25 test size split our data of 200 items into a training set of 150 observations and three columns, and a test set of 50 observations. \n",
    "\n",
    "We can use this to evaluate our model."
   ]
  },
  {
   "cell_type": "markdown",
   "metadata": {
    "colab_type": "text",
    "id": "WYwF-640dstL"
   },
   "source": [
    "\n",
    "### Now we’ll fit the model on the training data:\n"
   ]
  },
  {
   "cell_type": "code",
   "execution_count": 30,
   "metadata": {
    "colab": {},
    "colab_type": "code",
    "id": "XM-5otDxdstM"
   },
   "outputs": [],
   "source": [
    "# fit a model\n",
    "lm = LinearRegression()\n",
    "model = lm.fit(X_train, y_train)\n",
    "predictions = lm.predict(X_test)\n"
   ]
  },
  {
   "cell_type": "code",
   "execution_count": 31,
   "metadata": {
    "colab": {},
    "colab_type": "code",
    "id": "U0lraBkhiBJ-",
    "outputId": "e74eee91-4b59-4e25-ba2a-4eaf13f2de9f"
   },
   "outputs": [
    {
     "data": {
      "text/plain": [
       "array([[ 9.3],\n",
       "       [26.2],\n",
       "       [18. ],\n",
       "       [10.9],\n",
       "       [ 9.6]])"
      ]
     },
     "execution_count": 31,
     "metadata": {},
     "output_type": "execute_result"
    }
   ],
   "source": [
    "predictions[0:5]\n"
   ]
  },
  {
   "cell_type": "code",
   "execution_count": 32,
   "metadata": {
    "colab": {},
    "colab_type": "code",
    "id": "2r_mBX9edstW",
    "outputId": "5770bec5-a6ca-4da8-cb03-d55aaf5534b5"
   },
   "outputs": [
    {
     "data": {
      "image/png": "[encoded data removed]",
      "text/plain": [
       "<Figure size 432x288 with 1 Axes>"
      ]
     },
     "metadata": {
      "needs_background": "light"
     },
     "output_type": "display_data"
    }
   ],
   "source": [
    "## Plot the errors\n",
    "\n",
    "plt.errorbar(range(1,51), y_test, yerr=(y_test-predictions).flatten(), fmt='.k', ecolor=\"red\");\n",
    "\n"
   ]
  },
  {
   "cell_type": "markdown",
   "metadata": {
    "colab_type": "text",
    "id": "po1EmhQkdstb"
   },
   "source": [
    "The red lines indicate the error of the prediction from the actual observations. "
   ]
  },
  {
   "cell_type": "markdown",
   "metadata": {
    "colab_type": "text",
    "id": "dinLkEdIjOPQ"
   },
   "source": [
    "Sklearn's LinearRegression provides the R squared score for its models:"
   ]
  },
  {
   "cell_type": "code",
   "execution_count": 33,
   "metadata": {
    "colab": {},
    "colab_type": "code",
    "id": "oiZCri7hdstc",
    "outputId": "e3ff6321-7a30-4519-b3f0-4c2060d0d2d0"
   },
   "outputs": [
    {
     "name": "stdout",
     "output_type": "stream",
     "text": [
      "Score: 1.0\n"
     ]
    }
   ],
   "source": [
    "print (\"Score:\", model.score(X_test, y_test))\n"
   ]
  },
  {
   "cell_type": "markdown",
   "metadata": {
    "colab_type": "text",
    "id": "BBaFQRh6jnL0"
   },
   "source": [
    "This score is quite close to 1, which suggests that our model fits our observations quite well."
   ]
  }
 ],
 "metadata": {
  "colab": {
   "collapsed_sections": [],
   "name": "Multiple Regression.ipynb",
   "provenance": [],
   "version": "0.3.2"
  },
  "kernelspec": {
   "display_name": "Python 3 (ipykernel)",
   "language": "python",
   "name": "python3"
  },
  "language_info": {
   "codemirror_mode": {
    "name": "ipython",
    "version": 3
   },
   "file_extension": ".py",
   "mimetype": "text/x-python",
   "name": "python",
   "nbconvert_exporter": "python",
   "pygments_lexer": "ipython3",
   "version": "3.9.5"
  }
 },
 "nbformat": 4,
 "nbformat_minor": 1
}
