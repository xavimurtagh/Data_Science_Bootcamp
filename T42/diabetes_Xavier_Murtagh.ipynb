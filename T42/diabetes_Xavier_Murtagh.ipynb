{
 "cells": [
  {
   "cell_type": "code",
   "execution_count": 258,
   "id": "759d9bd3",
   "metadata": {},
   "outputs": [
    {
     "data": {
      "text/html": [
       "<div>\n",
       "<style scoped>\n",
       "    .dataframe tbody tr th:only-of-type {\n",
       "        vertical-align: middle;\n",
       "    }\n",
       "\n",
       "    .dataframe tbody tr th {\n",
       "        vertical-align: top;\n",
       "    }\n",
       "\n",
       "    .dataframe thead th {\n",
       "        text-align: right;\n",
       "    }\n",
       "</style>\n",
       "<table border=\"1\" class=\"dataframe\">\n",
       "  <thead>\n",
       "    <tr style=\"text-align: right;\">\n",
       "      <th></th>\n",
       "      <th>Pregnancies</th>\n",
       "      <th>Glucose</th>\n",
       "      <th>BloodPressure</th>\n",
       "      <th>SkinThickness</th>\n",
       "      <th>Insulin</th>\n",
       "      <th>BMI</th>\n",
       "      <th>DiabetesPedigreeFunction</th>\n",
       "      <th>Age</th>\n",
       "      <th>Outcome</th>\n",
       "    </tr>\n",
       "  </thead>\n",
       "  <tbody>\n",
       "    <tr>\n",
       "      <th>0</th>\n",
       "      <td>6</td>\n",
       "      <td>148</td>\n",
       "      <td>72</td>\n",
       "      <td>35</td>\n",
       "      <td>0</td>\n",
       "      <td>33.6</td>\n",
       "      <td>0.627</td>\n",
       "      <td>50</td>\n",
       "      <td>1</td>\n",
       "    </tr>\n",
       "    <tr>\n",
       "      <th>1</th>\n",
       "      <td>1</td>\n",
       "      <td>85</td>\n",
       "      <td>66</td>\n",
       "      <td>29</td>\n",
       "      <td>0</td>\n",
       "      <td>26.6</td>\n",
       "      <td>0.351</td>\n",
       "      <td>31</td>\n",
       "      <td>0</td>\n",
       "    </tr>\n",
       "    <tr>\n",
       "      <th>2</th>\n",
       "      <td>8</td>\n",
       "      <td>183</td>\n",
       "      <td>64</td>\n",
       "      <td>0</td>\n",
       "      <td>0</td>\n",
       "      <td>23.3</td>\n",
       "      <td>0.672</td>\n",
       "      <td>32</td>\n",
       "      <td>1</td>\n",
       "    </tr>\n",
       "    <tr>\n",
       "      <th>3</th>\n",
       "      <td>1</td>\n",
       "      <td>89</td>\n",
       "      <td>66</td>\n",
       "      <td>23</td>\n",
       "      <td>94</td>\n",
       "      <td>28.1</td>\n",
       "      <td>0.167</td>\n",
       "      <td>21</td>\n",
       "      <td>0</td>\n",
       "    </tr>\n",
       "    <tr>\n",
       "      <th>4</th>\n",
       "      <td>0</td>\n",
       "      <td>137</td>\n",
       "      <td>40</td>\n",
       "      <td>35</td>\n",
       "      <td>168</td>\n",
       "      <td>43.1</td>\n",
       "      <td>2.288</td>\n",
       "      <td>33</td>\n",
       "      <td>1</td>\n",
       "    </tr>\n",
       "  </tbody>\n",
       "</table>\n",
       "</div>"
      ],
      "text/plain": [
       "   Pregnancies  Glucose  BloodPressure  SkinThickness  Insulin   BMI  \\\n",
       "0            6      148             72             35        0  33.6   \n",
       "1            1       85             66             29        0  26.6   \n",
       "2            8      183             64              0        0  23.3   \n",
       "3            1       89             66             23       94  28.1   \n",
       "4            0      137             40             35      168  43.1   \n",
       "\n",
       "   DiabetesPedigreeFunction  Age  Outcome  \n",
       "0                     0.627   50        1  \n",
       "1                     0.351   31        0  \n",
       "2                     0.672   32        1  \n",
       "3                     0.167   21        0  \n",
       "4                     2.288   33        1  "
      ]
     },
     "execution_count": 258,
     "metadata": {},
     "output_type": "execute_result"
    }
   ],
   "source": [
    "#Importing Libraries\n",
    "import numpy as np\n",
    "import pandas as pd\n",
    "import matplotlib.pyplot as plt\n",
    "from sklearn.linear_model import LinearRegression\n",
    "from sklearn.preprocessing import MinMaxScaler\n",
    "from sklearn.preprocessing import StandardScaler\n",
    "\n",
    "#Importing the dataset\n",
    "data = pd.read_csv(\"diabetes.csv\",)\n",
    "data.head()"
   ]
  },
  {
   "cell_type": "code",
   "execution_count": 259,
   "id": "feb0ac30",
   "metadata": {},
   "outputs": [
    {
     "name": "stdout",
     "output_type": "stream",
     "text": [
      "            0         1         2         3         4         5         6  \\\n",
      "0    0.352941  0.743719  0.590164  0.353535  0.000000  0.500745  0.234415   \n",
      "1    0.058824  0.427136  0.540984  0.292929  0.000000  0.396423  0.116567   \n",
      "2    0.470588  0.919598  0.524590  0.000000  0.000000  0.347243  0.253629   \n",
      "3    0.058824  0.447236  0.540984  0.232323  0.111111  0.418778  0.038002   \n",
      "4    0.000000  0.688442  0.327869  0.353535  0.198582  0.642325  0.943638   \n",
      "..        ...       ...       ...       ...       ...       ...       ...   \n",
      "763  0.588235  0.507538  0.622951  0.484848  0.212766  0.490313  0.039710   \n",
      "764  0.117647  0.613065  0.573770  0.272727  0.000000  0.548435  0.111870   \n",
      "765  0.294118  0.608040  0.590164  0.232323  0.132388  0.390462  0.071307   \n",
      "766  0.058824  0.633166  0.491803  0.000000  0.000000  0.448584  0.115713   \n",
      "767  0.058824  0.467337  0.573770  0.313131  0.000000  0.453055  0.101196   \n",
      "\n",
      "            7    8  \n",
      "0    0.483333  1.0  \n",
      "1    0.166667  0.0  \n",
      "2    0.183333  1.0  \n",
      "3    0.000000  0.0  \n",
      "4    0.200000  1.0  \n",
      "..        ...  ...  \n",
      "763  0.700000  0.0  \n",
      "764  0.100000  0.0  \n",
      "765  0.150000  0.0  \n",
      "766  0.433333  1.0  \n",
      "767  0.033333  0.0  \n",
      "\n",
      "[768 rows x 9 columns]\n"
     ]
    }
   ],
   "source": [
    "# define min max scaler\n",
    "scaler = MinMaxScaler()\n",
    "# transform data\n",
    "scaled = scaler.fit_transform(data)\n",
    "scaled = pd.DataFrame(scaled)\n",
    "print(scaled)"
   ]
  },
  {
   "cell_type": "code",
   "execution_count": 260,
   "id": "c1008ea6",
   "metadata": {},
   "outputs": [
    {
     "name": "stdout",
     "output_type": "stream",
     "text": [
      "            0         1         2         3         4         5         6  \\\n",
      "0    0.639947  0.848324  0.149641  0.907270 -0.692891  0.204013  0.468492   \n",
      "1   -0.844885 -1.123396 -0.160546  0.530902 -0.692891 -0.684422 -0.365061   \n",
      "2    1.233880  1.943724 -0.263941 -1.288212 -0.692891 -1.103255  0.604397   \n",
      "3   -0.844885 -0.998208 -0.160546  0.154533  0.123302 -0.494043 -0.920763   \n",
      "4   -1.141852  0.504055 -1.504687  0.907270  0.765836  1.409746  5.484909   \n",
      "..        ...       ...       ...       ...       ...       ...       ...   \n",
      "763  1.827813 -0.622642  0.356432  1.722735  0.870031  0.115169 -0.908682   \n",
      "764 -0.547919  0.034598  0.046245  0.405445 -0.692891  0.610154 -0.398282   \n",
      "765  0.342981  0.003301  0.149641  0.154533  0.279594 -0.735190 -0.685193   \n",
      "766 -0.844885  0.159787 -0.470732 -1.288212 -0.692891 -0.240205 -0.371101   \n",
      "767 -0.844885 -0.873019  0.046245  0.656358 -0.692891 -0.202129 -0.473785   \n",
      "\n",
      "            7         8  \n",
      "0    1.425995  1.365896  \n",
      "1   -0.190672 -0.732120  \n",
      "2   -0.105584  1.365896  \n",
      "3   -1.041549 -0.732120  \n",
      "4   -0.020496  1.365896  \n",
      "..        ...       ...  \n",
      "763  2.532136 -0.732120  \n",
      "764 -0.531023 -0.732120  \n",
      "765 -0.275760 -0.732120  \n",
      "766  1.170732  1.365896  \n",
      "767 -0.871374 -0.732120  \n",
      "\n",
      "[768 rows x 9 columns]\n"
     ]
    }
   ],
   "source": [
    "# define standard scaler\n",
    "scaler = StandardScaler()\n",
    "# transform data\n",
    "std = scaler.fit_transform(data)\n",
    "std = pd.DataFrame(std)\n",
    "print(std)"
   ]
  },
  {
   "cell_type": "code",
   "execution_count": 261,
   "id": "e5b73119",
   "metadata": {},
   "outputs": [
    {
     "name": "stdout",
     "output_type": "stream",
     "text": [
      "Intercept: \n",
      " [-0.78767391]\n",
      "Coefficients: \n",
      " [[ 0.35009563  1.17592961 -0.28245507 -0.14562473  0.89499565  0.3463432\n",
      "   0.15594785]]\n"
     ]
    }
   ],
   "source": [
    "# scaled\n",
    "# letting x be independent variables while y is dependent variable\n",
    "X = scaled.iloc[:,[0,1,2,4,5,6,7]].values\n",
    "y = scaled.iloc[:,-1].values\n",
    "y = y.reshape(-1, 1)\n",
    "X = X.reshape(-1, 7)\n",
    "\n",
    "# create an empty linear regression model\n",
    "model = LinearRegression()\n",
    "\n",
    "# to create the model, we use fit(x,y)\n",
    "model.fit(X,y)\n",
    "\n",
    "# return intercepts and coefficients\n",
    "print('Intercept: \\n', model.intercept_)\n",
    "print('Coefficients: \\n', model.coef_)\n"
   ]
  },
  {
   "cell_type": "code",
   "execution_count": 262,
   "id": "7c2f389b",
   "metadata": {},
   "outputs": [
    {
     "name": "stdout",
     "output_type": "stream",
     "text": [
      "Training data: (614, 7) (614, 1)\n",
      "Test data: (154, 7) (154, 1)\n"
     ]
    }
   ],
   "source": [
    "# importing training function and split to 20:80\n",
    "from sklearn.model_selection import train_test_split\n",
    "\n",
    "X_train, X_test, y_train, y_test = train_test_split(X,y,test_size = 0.20, shuffle=True)\n",
    "\n",
    "print (\"Training data:\",X_train.shape, y_train.shape)\n",
    "print (\"Test data:\",X_test.shape, y_test.shape)\n"
   ]
  },
  {
   "cell_type": "code",
   "execution_count": 263,
   "id": "6660a6cd",
   "metadata": {},
   "outputs": [],
   "source": [
    "# fit a model\n",
    "lm = LinearRegression()\n",
    "model = lm.fit(X_train, y_train)\n",
    "predictions = lm.predict(X_test)\n",
    "\n",
    "# making all predictions less than 0.5 equal 0 else 1\n",
    "for i in range(len(predictions)):\n",
    "    if predictions[i] < 0.5:\n",
    "        predictions[i] = 0\n",
    "    else:\n",
    "        predictions[i] = 1\n",
    "        "
   ]
  },
  {
   "cell_type": "code",
   "execution_count": 264,
   "id": "0ea88922",
   "metadata": {},
   "outputs": [
    {
     "name": "stdout",
     "output_type": "stream",
     "text": [
      "Score for scaled is: 0.8116883116883117\n"
     ]
    }
   ],
   "source": [
    "from sklearn.metrics import accuracy_score\n",
    "print (\"Score for scaled is:\",accuracy_score(y_test, predictions))"
   ]
  },
  {
   "cell_type": "code",
   "execution_count": 265,
   "id": "c712fd3f",
   "metadata": {},
   "outputs": [
    {
     "name": "stdout",
     "output_type": "stream",
     "text": [
      "Intercept: \n",
      " [-0.78767391]\n",
      "Coefficients: \n",
      " [[ 0.35009563  1.17592961 -0.28245507 -0.14562473  0.89499565  0.3463432\n",
      "   0.15594785]]\n"
     ]
    }
   ],
   "source": [
    "# standard\n",
    "# letting x be independent variables while y is dependent variable\n",
    "X_std = std.iloc[:,[0,1,2,4,5,6,7]].values\n",
    "y_std = std.iloc[:,-1].values\n",
    "y_std = y.reshape(-1, 1)\n",
    "X_std = X.reshape(-1, 7)\n",
    "\n",
    "# create an empty linear regression model\n",
    "std_model = LinearRegression()\n",
    "\n",
    "# to create the model, we use fit(x,y)\n",
    "std_model.fit(X,y)\n",
    "\n",
    "# return intercepts and coefficients\n",
    "print('Intercept: \\n', std_model.intercept_)\n",
    "print('Coefficients: \\n', std_model.coef_)"
   ]
  },
  {
   "cell_type": "code",
   "execution_count": 266,
   "id": "a5009237",
   "metadata": {},
   "outputs": [
    {
     "name": "stdout",
     "output_type": "stream",
     "text": [
      "Training data: (614, 7) (614, 1)\n",
      "Test data: (154, 7) (154, 1)\n"
     ]
    }
   ],
   "source": [
    "# split training and testing to 20:80\n",
    "X_std_train, X_std_test, y_std_train, y_std_test = train_test_split(X,y_std,test_size = 0.20, shuffle=True)\n",
    "\n",
    "print (\"Training data:\",X_std_train.shape, y_std_train.shape)\n",
    "print (\"Test data:\",X_std_test.shape, y_std_test.shape)"
   ]
  },
  {
   "cell_type": "code",
   "execution_count": 267,
   "id": "1332f939",
   "metadata": {},
   "outputs": [],
   "source": [
    "# fit a model\n",
    "std_lm = LinearRegression()\n",
    "std_model = std_lm.fit(X_std_train, y_std_train)\n",
    "std_predictions = lm.predict(X_std_test)\n",
    "\n",
    "# making all predictions less than 0.5 equal 0 else 1\n",
    "for i in range(len(std_predictions)):\n",
    "    if std_predictions[i] < 0.5:\n",
    "        std_predictions[i] = 0\n",
    "    else:\n",
    "        std_predictions[i] = 1\n",
    "                "
   ]
  },
  {
   "cell_type": "code",
   "execution_count": 268,
   "id": "3e518abf",
   "metadata": {},
   "outputs": [
    {
     "name": "stdout",
     "output_type": "stream",
     "text": [
      "Score for standard is: 0.7532467532467533\n"
     ]
    }
   ],
   "source": [
    "print (\"Score for standard is:\",accuracy_score(y_std_test, std_predictions))"
   ]
  },
  {
   "cell_type": "markdown",
   "id": "dc197083",
   "metadata": {},
   "source": [
    " "
   ]
  },
  {
   "cell_type": "code",
   "execution_count": null,
   "id": "b2244970",
   "metadata": {},
   "outputs": [],
   "source": []
  }
 ],
 "metadata": {
  "kernelspec": {
   "display_name": "Python 3 (ipykernel)",
   "language": "python",
   "name": "python3"
  },
  "language_info": {
   "codemirror_mode": {
    "name": "ipython",
    "version": 3
   },
   "file_extension": ".py",
   "mimetype": "text/x-python",
   "name": "python",
   "nbconvert_exporter": "python",
   "pygments_lexer": "ipython3",
   "version": "3.9.5"
  }
 },
 "nbformat": 4,
 "nbformat_minor": 5
}
