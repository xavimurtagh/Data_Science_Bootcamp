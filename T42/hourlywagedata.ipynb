{
 "cells": [
  {
   "cell_type": "code",
   "execution_count": 111,
   "id": "22c68cfa",
   "metadata": {},
   "outputs": [
    {
     "data": {
      "text/html": [
       "<div>\n",
       "<style scoped>\n",
       "    .dataframe tbody tr th:only-of-type {\n",
       "        vertical-align: middle;\n",
       "    }\n",
       "\n",
       "    .dataframe tbody tr th {\n",
       "        vertical-align: top;\n",
       "    }\n",
       "\n",
       "    .dataframe thead th {\n",
       "        text-align: right;\n",
       "    }\n",
       "</style>\n",
       "<table border=\"1\" class=\"dataframe\">\n",
       "  <thead>\n",
       "    <tr style=\"text-align: right;\">\n",
       "      <th></th>\n",
       "      <th>position</th>\n",
       "      <th>agerange</th>\n",
       "      <th>yrsscale</th>\n",
       "      <th>hourwage</th>\n",
       "    </tr>\n",
       "  </thead>\n",
       "  <tbody>\n",
       "    <tr>\n",
       "      <th>0</th>\n",
       "      <td>1</td>\n",
       "      <td>1</td>\n",
       "      <td>2</td>\n",
       "      <td>13.736234054538</td>\n",
       "    </tr>\n",
       "    <tr>\n",
       "      <th>1</th>\n",
       "      <td>0</td>\n",
       "      <td>1</td>\n",
       "      <td>2</td>\n",
       "      <td>16.4407309689108</td>\n",
       "    </tr>\n",
       "    <tr>\n",
       "      <th>2</th>\n",
       "      <td>0</td>\n",
       "      <td>1</td>\n",
       "      <td>3</td>\n",
       "      <td>21.3891077239505</td>\n",
       "    </tr>\n",
       "    <tr>\n",
       "      <th>3</th>\n",
       "      <td>1</td>\n",
       "      <td>1</td>\n",
       "      <td>1</td>\n",
       "      <td>11.377187468408</td>\n",
       "    </tr>\n",
       "    <tr>\n",
       "      <th>4</th>\n",
       "      <td>0</td>\n",
       "      <td>1</td>\n",
       "      <td>3</td>\n",
       "      <td>21.5607775454338</td>\n",
       "    </tr>\n",
       "  </tbody>\n",
       "</table>\n",
       "</div>"
      ],
      "text/plain": [
       "   position  agerange  yrsscale          hourwage\n",
       "0         1         1         2   13.736234054538\n",
       "1         0         1         2  16.4407309689108\n",
       "2         0         1         3  21.3891077239505\n",
       "3         1         1         1   11.377187468408\n",
       "4         0         1         3  21.5607775454338"
      ]
     },
     "execution_count": 111,
     "metadata": {},
     "output_type": "execute_result"
    }
   ],
   "source": [
    "#Importing Libraries\n",
    "import numpy as np\n",
    "import pandas as pd\n",
    "import matplotlib.pyplot as plt\n",
    "from sklearn.linear_model import LinearRegression\n",
    "\n",
    "#Importing the dataset\n",
    "data = pd.read_csv(\"hourlywagedata.csv\")\n",
    "data.head()"
   ]
  },
  {
   "cell_type": "code",
   "execution_count": 112,
   "id": "9e38d929",
   "metadata": {},
   "outputs": [
    {
     "data": {
      "text/plain": [
       "position    0\n",
       "agerange    0\n",
       "yrsscale    0\n",
       "hourwage    0\n",
       "dtype: int64"
      ]
     },
     "execution_count": 112,
     "metadata": {},
     "output_type": "execute_result"
    }
   ],
   "source": [
    "# checking if any null data\n",
    "data.isnull().sum()"
   ]
  },
  {
   "cell_type": "code",
   "execution_count": 113,
   "id": "fe356cee",
   "metadata": {},
   "outputs": [],
   "source": [
    "# doesnt seem like it so lets just check all the unique integers\n",
    "# while attempting to convert and round hourlywages, i found out that there is a ''/' ' in it so i will rmove all instances\n",
    "data = data[data.hourwage != '']\n",
    "data = data[data.hourwage != ' ']\n",
    "data = data[data.hourwage != 0]\n",
    "\n",
    "data['hourwage'] = round(data['hourwage'].astype('float'),2)\n",
    "data['yrsscale'] = data['yrsscale'].astype('float')\n",
    "data['agerange'] = data['agerange'].astype('float')\n",
    "data['position'] = data['position'].astype('float')"
   ]
  },
  {
   "cell_type": "code",
   "execution_count": 114,
   "id": "a22b72a1",
   "metadata": {},
   "outputs": [
    {
     "data": {
      "text/plain": [
       "Text(0, 0.5, 'Hourly wage')"
      ]
     },
     "execution_count": 114,
     "metadata": {},
     "output_type": "execute_result"
    },
    {
     "data": {
      "image/png": "[encoded data removed]",
      "text/plain": [
       "<Figure size 432x288 with 1 Axes>"
      ]
     },
     "metadata": {
      "needs_background": "light"
     },
     "output_type": "display_data"
    }
   ],
   "source": [
    "# plot hourly wage vs yrsscale\n",
    "x = data.iloc[:,2:3].values\n",
    "y = data.iloc[:,-1].values\n",
    "\n",
    "# rehsaping to be a 2d array\n",
    "y=y.reshape(-1, 1)\n",
    "x=x.reshape(-1, 1)\n",
    "\n",
    "# create an empty linear regression model \n",
    "yrs_model = LinearRegression()\n",
    "\n",
    "# to create the model, we use fit(x,y)\n",
    "yrs_model.fit(x,y)\n",
    "\n",
    "# using linear regression predicting y using x\n",
    "y_pred = yrs_model.predict(x)\n",
    "\n",
    "# plot\n",
    "plt.scatter(x,y)\n",
    "plt.plot(x,y_pred,color = 'r')\n",
    "plt.title('Years v/s Wage')\n",
    "plt.xlabel('Years on scale')\n",
    "plt.ylabel('Hourly wage')"
   ]
  },
  {
   "cell_type": "code",
   "execution_count": 115,
   "id": "ce4da870",
   "metadata": {},
   "outputs": [
    {
     "data": {
      "text/plain": [
       "Text(0, 0.5, 'Hourly wage')"
      ]
     },
     "execution_count": 115,
     "metadata": {},
     "output_type": "execute_result"
    },
    {
     "data": {
      "image/png": "[encoded data removed]",
      "text/plain": [
       "<Figure size 432x288 with 1 Axes>"
      ]
     },
     "metadata": {
      "needs_background": "light"
     },
     "output_type": "display_data"
    }
   ],
   "source": [
    "# plot hourly wage vs age range\n",
    "x = data.iloc[:,1:2].values\n",
    "y = data.iloc[:,-1].values\n",
    "\n",
    "# reshaping to be a 2d array\n",
    "y=y.reshape(-1, 1)\n",
    "x=x.reshape(-1, 1)\n",
    "\n",
    "# create an empty linear regression model \n",
    "age_model = LinearRegression()\n",
    "\n",
    "# to create the model, we use fit(x,y)\n",
    "age_model.fit(x,y)\n",
    "\n",
    "# using linear regression predicting y using x\n",
    "y_pred = age_model.predict(x)\n",
    "\n",
    "# plot\n",
    "plt.scatter(x,y)\n",
    "plt.plot(x,y_pred,color = 'r')\n",
    "plt.title('Age Range v/s Wage')\n",
    "plt.xlabel('Age Range')\n",
    "plt.ylabel('Hourly wage')"
   ]
  },
  {
   "cell_type": "code",
   "execution_count": 116,
   "id": "8c076bd1",
   "metadata": {},
   "outputs": [
    {
     "data": {
      "text/plain": [
       "Text(0, 0.5, 'Hourly wage')"
      ]
     },
     "execution_count": 116,
     "metadata": {},
     "output_type": "execute_result"
    },
    {
     "data": {
      "image/png": "[encoded data removed]",
      "text/plain": [
       "<Figure size 432x288 with 1 Axes>"
      ]
     },
     "metadata": {
      "needs_background": "light"
     },
     "output_type": "display_data"
    }
   ],
   "source": [
    "# plot hourly wage vs position\n",
    "x = data.iloc[:,0].values\n",
    "y = data.iloc[:,-1].values\n",
    "\n",
    "# reshaping to be a 2d array\n",
    "y=y.reshape(-1, 1)\n",
    "x=x.reshape(-1, 1)\n",
    "\n",
    "# create an empty linear regression model \n",
    "pos_model = LinearRegression()\n",
    "\n",
    "# to create the model, we use fit(x,y)\n",
    "pos_model.fit(x,y)\n",
    "\n",
    "# using linear regression predicting y using x\n",
    "y_pred = pos_model.predict(x)\n",
    "\n",
    "# plot\n",
    "plt.scatter(x,y)\n",
    "plt.plot(x,y_pred,color = 'r')\n",
    "plt.title('Position v/s Wage')\n",
    "plt.xlabel('Position')\n",
    "plt.ylabel('Hourly wage')"
   ]
  },
  {
   "cell_type": "code",
   "execution_count": 117,
   "id": "38de34b4",
   "metadata": {},
   "outputs": [
    {
     "data": {
      "text/html": [
       "<style>#sk-container-id-3 {color: black;background-color: white;}#sk-container-id-3 pre{padding: 0;}#sk-container-id-3 div.sk-toggleable {background-color: white;}#sk-container-id-3 label.sk-toggleable__label {cursor: pointer;display: block;width: 100%;margin-bottom: 0;padding: 0.3em;box-sizing: border-box;text-align: center;}#sk-container-id-3 label.sk-toggleable__label-arrow:before {content: \"▸\";float: left;margin-right: 0.25em;color: #696969;}#sk-container-id-3 label.sk-toggleable__label-arrow:hover:before {color: black;}#sk-container-id-3 div.sk-estimator:hover label.sk-toggleable__label-arrow:before {color: black;}#sk-container-id-3 div.sk-toggleable__content {max-height: 0;max-width: 0;overflow: hidden;text-align: left;background-color: #f0f8ff;}#sk-container-id-3 div.sk-toggleable__content pre {margin: 0.2em;color: black;border-radius: 0.25em;background-color: #f0f8ff;}#sk-container-id-3 input.sk-toggleable__control:checked~div.sk-toggleable__content {max-height: 200px;max-width: 100%;overflow: auto;}#sk-container-id-3 input.sk-toggleable__control:checked~label.sk-toggleable__label-arrow:before {content: \"▾\";}#sk-container-id-3 div.sk-estimator input.sk-toggleable__control:checked~label.sk-toggleable__label {background-color: #d4ebff;}#sk-container-id-3 div.sk-label input.sk-toggleable__control:checked~label.sk-toggleable__label {background-color: #d4ebff;}#sk-container-id-3 input.sk-hidden--visually {border: 0;clip: rect(1px 1px 1px 1px);clip: rect(1px, 1px, 1px, 1px);height: 1px;margin: -1px;overflow: hidden;padding: 0;position: absolute;width: 1px;}#sk-container-id-3 div.sk-estimator {font-family: monospace;background-color: #f0f8ff;border: 1px dotted black;border-radius: 0.25em;box-sizing: border-box;margin-bottom: 0.5em;}#sk-container-id-3 div.sk-estimator:hover {background-color: #d4ebff;}#sk-container-id-3 div.sk-parallel-item::after {content: \"\";width: 100%;border-bottom: 1px solid gray;flex-grow: 1;}#sk-container-id-3 div.sk-label:hover label.sk-toggleable__label {background-color: #d4ebff;}#sk-container-id-3 div.sk-serial::before {content: \"\";position: absolute;border-left: 1px solid gray;box-sizing: border-box;top: 0;bottom: 0;left: 50%;z-index: 0;}#sk-container-id-3 div.sk-serial {display: flex;flex-direction: column;align-items: center;background-color: white;padding-right: 0.2em;padding-left: 0.2em;position: relative;}#sk-container-id-3 div.sk-item {position: relative;z-index: 1;}#sk-container-id-3 div.sk-parallel {display: flex;align-items: stretch;justify-content: center;background-color: white;position: relative;}#sk-container-id-3 div.sk-item::before, #sk-container-id-3 div.sk-parallel-item::before {content: \"\";position: absolute;border-left: 1px solid gray;box-sizing: border-box;top: 0;bottom: 0;left: 50%;z-index: -1;}#sk-container-id-3 div.sk-parallel-item {display: flex;flex-direction: column;z-index: 1;position: relative;background-color: white;}#sk-container-id-3 div.sk-parallel-item:first-child::after {align-self: flex-end;width: 50%;}#sk-container-id-3 div.sk-parallel-item:last-child::after {align-self: flex-start;width: 50%;}#sk-container-id-3 div.sk-parallel-item:only-child::after {width: 0;}#sk-container-id-3 div.sk-dashed-wrapped {border: 1px dashed gray;margin: 0 0.4em 0.5em 0.4em;box-sizing: border-box;padding-bottom: 0.4em;background-color: white;}#sk-container-id-3 div.sk-label label {font-family: monospace;font-weight: bold;display: inline-block;line-height: 1.2em;}#sk-container-id-3 div.sk-label-container {text-align: center;}#sk-container-id-3 div.sk-container {/* jupyter's `normalize.less` sets `[hidden] { display: none; }` but bootstrap.min.css set `[hidden] { display: none !important; }` so we also need the `!important` here to be able to override the default hidden behavior on the sphinx rendered scikit-learn.org. See: https://github.com/scikit-learn/scikit-learn/issues/21755 */display: inline-block !important;position: relative;}#sk-container-id-3 div.sk-text-repr-fallback {display: none;}</style><div id=\"sk-container-id-3\" class=\"sk-top-container\"><div class=\"sk-text-repr-fallback\"><pre>LinearRegression()</pre><b>In a Jupyter environment, please rerun this cell to show the HTML representation or trust the notebook. <br />On GitHub, the HTML representation is unable to render, please try loading this page with nbviewer.org.</b></div><div class=\"sk-container\" hidden><div class=\"sk-item\"><div class=\"sk-estimator sk-toggleable\"><input class=\"sk-toggleable__control sk-hidden--visually\" id=\"sk-estimator-id-3\" type=\"checkbox\" checked><label for=\"sk-estimator-id-3\" class=\"sk-toggleable__label sk-toggleable__label-arrow\">LinearRegression</label><div class=\"sk-toggleable__content\"><pre>LinearRegression()</pre></div></div></div></div></div>"
      ],
      "text/plain": [
       "LinearRegression()"
      ]
     },
     "execution_count": 117,
     "metadata": {},
     "output_type": "execute_result"
    }
   ],
   "source": [
    "# Multiple linear regression model\n",
    "# selecting dependent as y and independents as x\n",
    "X = data.iloc[:,[0,1,2]].values\n",
    "y = data.iloc[:,-1].values\n",
    "\n",
    "# reshaping to be a 2d array\n",
    "y = y.reshape(-1, 1)\n",
    "X = X.reshape(-1, 3)\n",
    "\n",
    "# create an empty linear regression model like below and give it a good variable name\n",
    "wage_model = LinearRegression()\n",
    "\n",
    "# to create the model, we use fit(x,y)\n",
    "wage_model.fit(X,y)"
   ]
  },
  {
   "cell_type": "code",
   "execution_count": 118,
   "id": "4c920e1e",
   "metadata": {},
   "outputs": [
    {
     "data": {
      "text/plain": [
       "array([[19.18],\n",
       "       [26.81],\n",
       "       [22.98],\n",
       "       [23.45],\n",
       "       [20.19],\n",
       "       [21.77],\n",
       "       [21.5 ],\n",
       "       [19.82],\n",
       "       [18.53],\n",
       "       [16.45],\n",
       "       [22.32],\n",
       "       [15.63],\n",
       "       [23.14],\n",
       "       [27.67],\n",
       "       [23.77],\n",
       "       [13.  ],\n",
       "       [23.29],\n",
       "       [15.95],\n",
       "       [16.47],\n",
       "       [21.81],\n",
       "       [21.86],\n",
       "       [19.86],\n",
       "       [24.37],\n",
       "       [25.35],\n",
       "       [18.61],\n",
       "       [21.85],\n",
       "       [15.49],\n",
       "       [22.03],\n",
       "       [11.11],\n",
       "       [18.02]])"
      ]
     },
     "execution_count": 118,
     "metadata": {},
     "output_type": "execute_result"
    }
   ],
   "source": [
    "from sklearn.model_selection import train_test_split\n",
    "\n",
    "# spliting into training and testing set\n",
    "X_train, X_test, y_train, y_test = train_test_split(X,y,test_size = 0.20, shuffle = True)\n",
    "\n",
    "# comparing test and train sets\n",
    "X_train[0:30]\n",
    "X_test[0:30]\n",
    "y_train[0:30]\n",
    "y_test[0:30]"
   ]
  },
  {
   "cell_type": "markdown",
   "id": "69e5e18d",
   "metadata": {},
   "source": [
    "All of the test and training sets seem to have ok distribution this may be because i used shuffle = true when splitting the sets."
   ]
  },
  {
   "cell_type": "code",
   "execution_count": 119,
   "id": "416b3af8",
   "metadata": {},
   "outputs": [
    {
     "data": {
      "text/plain": [
       "array([[22.01104746],\n",
       "       [20.324352  ],\n",
       "       [20.324352  ],\n",
       "       [19.96913066],\n",
       "       [20.324352  ]])"
      ]
     },
     "execution_count": 119,
     "metadata": {},
     "output_type": "execute_result"
    }
   ],
   "source": [
    "# fit a model\n",
    "lm = LinearRegression()\n",
    "model = lm.fit(X_train, y_train)\n",
    "predictions = lm.predict(X_test)\n",
    "predictions[0:5]"
   ]
  },
  {
   "cell_type": "code",
   "execution_count": 120,
   "id": "894d01c1",
   "metadata": {},
   "outputs": [
    {
     "data": {
      "image/png": "[encoded data removed]",
      "text/plain": [
       "<Figure size 432x288 with 1 Axes>"
      ]
     },
     "metadata": {
      "needs_background": "light"
     },
     "output_type": "display_data"
    }
   ],
   "source": [
    "# plot error graph\n",
    "plt.errorbar(range(len(X_test)), y_test, yerr=(y_test-predictions).flatten(), fmt='.k', ecolor=\"red\");"
   ]
  },
  {
   "cell_type": "code",
   "execution_count": 121,
   "id": "3eb134f8",
   "metadata": {},
   "outputs": [
    {
     "name": "stdout",
     "output_type": "stream",
     "text": [
      "Score: 0.11998507083617538\n"
     ]
    }
   ],
   "source": [
    "# root mean squared error score quite low so doesnt fit observations well\n",
    "print (\"Score:\", model.score(X_test, y_test))"
   ]
  },
  {
   "cell_type": "code",
   "execution_count": 122,
   "id": "1813cedf",
   "metadata": {},
   "outputs": [
    {
     "name": "stdout",
     "output_type": "stream",
     "text": [
      "Coefficients: \n",
      " [[-2.01949099 -0.22559064  0.82398816]]\n"
     ]
    }
   ],
   "source": [
    "print('Coefficients: \\n', wage_model.coef_)"
   ]
  },
  {
   "cell_type": "markdown",
   "id": "4c50c64b",
   "metadata": {},
   "source": [
    "While years on scale has a positive effect on wage, the other two dont and in fact they have oposite relationships with wage and it shows that you earn more on average in the hospital than office."
   ]
  },
  {
   "cell_type": "code",
   "execution_count": null,
   "id": "6cb21f03",
   "metadata": {},
   "outputs": [],
   "source": []
  }
 ],
 "metadata": {
  "kernelspec": {
   "display_name": "Python 3 (ipykernel)",
   "language": "python",
   "name": "python3"
  },
  "language_info": {
   "codemirror_mode": {
    "name": "ipython",
    "version": 3
   },
   "file_extension": ".py",
   "mimetype": "text/x-python",
   "name": "python",
   "nbconvert_exporter": "python",
   "pygments_lexer": "ipython3",
   "version": "3.9.5"
  }
 },
 "nbformat": 4,
 "nbformat_minor": 5
}
