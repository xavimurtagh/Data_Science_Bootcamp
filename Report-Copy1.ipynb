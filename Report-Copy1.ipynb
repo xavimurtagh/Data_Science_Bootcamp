{
 "cells": [
  {
   "cell_type": "code",
   "execution_count": 10,
   "id": "92adbe4e",
   "metadata": {},
   "outputs": [
    {
     "data": {
      "text/plain": [
       "Index(['Balance', 'Income', 'Limit', 'Rating', 'Cards', 'Age', 'Education',\n",
       "       'Gender', 'Student', 'Married', 'Ethnicity'],\n",
       "      dtype='object')"
      ]
     },
     "execution_count": 10,
     "metadata": {},
     "output_type": "execute_result"
    }
   ],
   "source": [
    "import pandas as pd\n",
    "import seaborn as sns\n",
    "df = pd.read_csv('balance.txt',sep=' ')\n",
    "df.columns"
   ]
  },
  {
   "cell_type": "code",
   "execution_count": 11,
   "id": "d2fb44a9",
   "metadata": {},
   "outputs": [
    {
     "name": "stdout",
     "output_type": "stream",
     "text": [
      "Ethnicity\n",
      "African American    47.682101\n",
      "Asian               44.187833\n",
      "Caucasian           44.521945\n",
      "Name: Income, dtype: float64\n"
     ]
    }
   ],
   "source": [
    "#    compare average income based on ethnicity\n",
    "print(df.groupby('Ethnicity')['Income'].mean())\n",
    "'''\n",
    "African American    47.682101\n",
    "Asian               44.187833\n",
    "Caucasian           44.521945\n",
    "'''"
   ]
  },
  {
   "cell_type": "code",
   "execution_count": 12,
   "id": "5ad3fe2d",
   "metadata": {},
   "outputs": [
    {
     "name": "stdout",
     "output_type": "stream",
     "text": [
      "Married\n",
      "No     13.493509\n",
      "Yes    13.388473\n",
      "Name: Balance, dtype: float64\n"
     ]
    }
   ],
   "source": [
    "#    do married of single people have a higher balance\n",
    "print(df.groupby('Married')['Balance'].mean())"
   ]
  },
  {
   "cell_type": "code",
   "execution_count": 13,
   "id": "5edfa239",
   "metadata": {},
   "outputs": [],
   "source": [
    "#    Single people have a higher balance"
   ]
  },
  {
   "cell_type": "code",
   "execution_count": 14,
   "id": "68dfdc94",
   "metadata": {},
   "outputs": [
    {
     "name": "stdout",
     "output_type": "stream",
     "text": [
      "186.634\n"
     ]
    }
   ],
   "source": [
    "#    what is the highest income\n",
    "print(df['Income'].max())"
   ]
  },
  {
   "cell_type": "code",
   "execution_count": 15,
   "id": "6fd56e3e",
   "metadata": {},
   "outputs": [],
   "source": [
    "#    186.634"
   ]
  },
  {
   "cell_type": "code",
   "execution_count": 16,
   "id": "920664cd",
   "metadata": {},
   "outputs": [
    {
     "name": "stdout",
     "output_type": "stream",
     "text": [
      "10.354\n"
     ]
    }
   ],
   "source": [
    "#    what is the lowest income\n",
    "print(df['Income'].min())"
   ]
  },
  {
   "cell_type": "code",
   "execution_count": 17,
   "id": "53c66e46",
   "metadata": {},
   "outputs": [],
   "source": [
    "#    10.3534"
   ]
  },
  {
   "cell_type": "code",
   "execution_count": 18,
   "id": "e105d56d",
   "metadata": {},
   "outputs": [
    {
     "name": "stdout",
     "output_type": "stream",
     "text": [
      "1183\n"
     ]
    }
   ],
   "source": [
    "#    how many cards are there in the database\n",
    "print(df['Cards'].sum())"
   ]
  },
  {
   "cell_type": "code",
   "execution_count": 19,
   "id": "0d303dd4",
   "metadata": {},
   "outputs": [],
   "source": [
    "#    1183"
   ]
  },
  {
   "cell_type": "code",
   "execution_count": 24,
   "id": "af067838",
   "metadata": {},
   "outputs": [
    {
     "name": "stdout",
     "output_type": "stream",
     "text": [
      "Gender\n",
      " Male     193\n",
      "Female    207\n",
      "Name: Gender, dtype: int64\n"
     ]
    }
   ],
   "source": [
    "#    how many females are there vs males\n",
    "print(df.groupby('Gender')['Gender'].count())"
   ]
  },
  {
   "cell_type": "code",
   "execution_count": 25,
   "id": "c35e3bf8",
   "metadata": {},
   "outputs": [],
   "source": [
    "#    193 males and 207 females"
   ]
  },
  {
   "cell_type": "code",
   "execution_count": null,
   "id": "ef2e94f9",
   "metadata": {},
   "outputs": [],
   "source": []
  }
 ],
 "metadata": {
  "kernelspec": {
   "display_name": "Python 3",
   "language": "python",
   "name": "python3"
  },
  "language_info": {
   "codemirror_mode": {
    "name": "ipython",
    "version": 3
   },
   "file_extension": ".py",
   "mimetype": "text/x-python",
   "name": "python",
   "nbconvert_exporter": "python",
   "pygments_lexer": "ipython3",
   "version": "3.8.8"
  }
 },
 "nbformat": 4,
 "nbformat_minor": 5
}
