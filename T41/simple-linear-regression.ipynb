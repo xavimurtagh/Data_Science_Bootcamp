{
 "cells": [
  {
   "cell_type": "markdown",
   "metadata": {
    "colab_type": "text",
    "id": "4g4GIdGykuJu"
   },
   "source": [
    "## Simple Linear Regression\n",
    "\n",
    "The objective of this notebook is to show you how to apply the algorithm learnt in the main task to a dataset. In the case of Simple Linear Regression, a good set-up involves importing packages that will help us manipulate data and leverage the easy-to-use machine learning tools of the scikit-learn library. "
   ]
  },
  {
   "cell_type": "code",
   "execution_count": 1,
   "metadata": {
    "colab": {},
    "colab_type": "code",
    "id": "4OwSIQ_qLsXA"
   },
   "outputs": [],
   "source": [
    "import numpy as np\n",
    "import pandas as pd\n",
    "import matplotlib.pyplot as plt\n",
    "from sklearn.linear_model import LinearRegression\n",
    "%matplotlib inline\n"
   ]
  },
  {
   "cell_type": "markdown",
   "metadata": {
    "colab_type": "text",
    "id": "wcLw-FN4Fz6Y"
   },
   "source": [
    "A linear model describes a linear relationship between an input and output variable. We therefore need to make sure that the problem we are looking to model with Linear Regression indeed has a continuous input and output variable with a linear relationship. \n",
    "\n",
    "Below we have a scatter plot of the data points. We can observe that the more years of experience an employee has, the higher their salary. \n",
    "This is a linear relationship that can be estimated with simple linear relationship."
   ]
  },
  {
   "cell_type": "code",
   "execution_count": 2,
   "metadata": {
    "colab": {
     "base_uri": "https://localhost:8080/",
     "height": 195
    },
    "colab_type": "code",
    "executionInfo": {
     "elapsed": 3713,
     "status": "ok",
     "timestamp": 1591363271175,
     "user": {
      "displayName": "Katherine James",
      "photoUrl": "https://lh3.googleusercontent.com/a-/AOh14GiFaZwPCpl3gehLImqfDSe7bvGd4V1S9MwtCk3qcA=s64",
      "userId": "15453441912277472489"
     },
     "user_tz": -120
    },
    "id": "z3Z4dQBomziZ",
    "outputId": "4b78777c-e92f-4bf4-e2ef-d4571e52a3d2"
   },
   "outputs": [
    {
     "data": {
      "text/html": [
       "<div>\n",
       "<style scoped>\n",
       "    .dataframe tbody tr th:only-of-type {\n",
       "        vertical-align: middle;\n",
       "    }\n",
       "\n",
       "    .dataframe tbody tr th {\n",
       "        vertical-align: top;\n",
       "    }\n",
       "\n",
       "    .dataframe thead th {\n",
       "        text-align: right;\n",
       "    }\n",
       "</style>\n",
       "<table border=\"1\" class=\"dataframe\">\n",
       "  <thead>\n",
       "    <tr style=\"text-align: right;\">\n",
       "      <th></th>\n",
       "      <th>YearsExperience</th>\n",
       "      <th>Salary</th>\n",
       "    </tr>\n",
       "  </thead>\n",
       "  <tbody>\n",
       "    <tr>\n",
       "      <th>0</th>\n",
       "      <td>1.1</td>\n",
       "      <td>39343.0</td>\n",
       "    </tr>\n",
       "    <tr>\n",
       "      <th>1</th>\n",
       "      <td>1.3</td>\n",
       "      <td>46205.0</td>\n",
       "    </tr>\n",
       "    <tr>\n",
       "      <th>2</th>\n",
       "      <td>1.5</td>\n",
       "      <td>37731.0</td>\n",
       "    </tr>\n",
       "    <tr>\n",
       "      <th>3</th>\n",
       "      <td>2.0</td>\n",
       "      <td>43525.0</td>\n",
       "    </tr>\n",
       "    <tr>\n",
       "      <th>4</th>\n",
       "      <td>2.2</td>\n",
       "      <td>39891.0</td>\n",
       "    </tr>\n",
       "  </tbody>\n",
       "</table>\n",
       "</div>"
      ],
      "text/plain": [
       "   YearsExperience   Salary\n",
       "0              1.1  39343.0\n",
       "1              1.3  46205.0\n",
       "2              1.5  37731.0\n",
       "3              2.0  43525.0\n",
       "4              2.2  39891.0"
      ]
     },
     "execution_count": 2,
     "metadata": {},
     "output_type": "execute_result"
    }
   ],
   "source": [
    "our_data = pd.read_csv(\"Salary_Data.csv\")\n",
    "our_data.head()"
   ]
  },
  {
   "cell_type": "code",
   "execution_count": 3,
   "metadata": {
    "colab": {
     "base_uri": "https://localhost:8080/",
     "height": 279
    },
    "colab_type": "code",
    "executionInfo": {
     "elapsed": 3706,
     "status": "ok",
     "timestamp": 1591363271176,
     "user": {
      "displayName": "Katherine James",
      "photoUrl": "https://lh3.googleusercontent.com/a-/AOh14GiFaZwPCpl3gehLImqfDSe7bvGd4V1S9MwtCk3qcA=s64",
      "userId": "15453441912277472489"
     },
     "user_tz": -120
    },
    "id": "sLvz395NGgcf",
    "outputId": "b7ac05ae-73af-42a3-d34d-06c6450db786"
   },
   "outputs": [
    {
     "data": {
      "image/png": "[encoded data removed]",
      "text/plain": [
       "<Figure size 432x288 with 1 Axes>"
      ]
     },
     "metadata": {
      "needs_background": "light"
     },
     "output_type": "display_data"
    }
   ],
   "source": [
    "# The iloc function allows use to select rows from the dataframe.  \n",
    "x = our_data.iloc[:,:1].values\n",
    "y = our_data.iloc[:,-1].values\n",
    "\n",
    "plt.scatter(x,y,color = 'b')\n",
    "plt.xlabel('Independent Variable')\n",
    "plt.ylabel('Dependent Variable')\n",
    "plt.show()"
   ]
  },
  {
   "cell_type": "markdown",
   "metadata": {
    "colab_type": "text",
    "id": "L0Jl9foLMFlj"
   },
   "source": [
    "For comparison, our problem might have no continuous input variables, or the impact of the input on the output variable is not linear, as in this example:"
   ]
  },
  {
   "cell_type": "code",
   "execution_count": 4,
   "metadata": {
    "colab": {
     "base_uri": "https://localhost:8080/",
     "height": 279
    },
    "colab_type": "code",
    "executionInfo": {
     "elapsed": 3699,
     "status": "ok",
     "timestamp": 1591363271177,
     "user": {
      "displayName": "Katherine James",
      "photoUrl": "https://lh3.googleusercontent.com/a-/AOh14GiFaZwPCpl3gehLImqfDSe7bvGd4V1S9MwtCk3qcA=s64",
      "userId": "15453441912277472489"
     },
     "user_tz": -120
    },
    "id": "1Q1WX3KRkuJ1",
    "outputId": "0b8ed670-1c2a-4586-aaf1-a9389b11afe1"
   },
   "outputs": [
    {
     "data": {
      "image/png": "[encoded data removed]",
      "text/plain": [
       "<Figure size 432x288 with 1 Axes>"
      ]
     },
     "metadata": {
      "needs_background": "light"
     },
     "output_type": "display_data"
    }
   ],
   "source": [
    "data_notlin = pd.read_csv('Mall_Customers.csv',index_col=0)\n",
    "\n",
    "x_notlin = data_notlin.loc[:,'Annual Income (k$)'].values\n",
    "y_notlin = data_notlin.loc[:,'Spending Score (1-100)'].values\n",
    "\n",
    "plt.scatter(x_notlin,y_notlin,color = 'b')\n",
    "plt.xlabel('Independent Variable')\n",
    "plt.ylabel('Dependent Variable')\n",
    "plt.show()\n"
   ]
  },
  {
   "cell_type": "markdown",
   "metadata": {
    "colab_type": "text",
    "id": "9BNV79xVMmWH"
   },
   "source": [
    "The scikit-learn package makes fitting a simple linear regression model very easy:"
   ]
  },
  {
   "cell_type": "code",
   "execution_count": 5,
   "metadata": {
    "colab": {
     "base_uri": "https://localhost:8080/",
     "height": 34
    },
    "colab_type": "code",
    "executionInfo": {
     "elapsed": 3694,
     "status": "ok",
     "timestamp": 1591363271178,
     "user": {
      "displayName": "Katherine James",
      "photoUrl": "https://lh3.googleusercontent.com/a-/AOh14GiFaZwPCpl3gehLImqfDSe7bvGd4V1S9MwtCk3qcA=s64",
      "userId": "15453441912277472489"
     },
     "user_tz": -120
    },
    "id": "EdXkF5MpkuKu",
    "outputId": "3d3081cc-e165-44e4-cd65-05bba3511016"
   },
   "outputs": [
    {
     "data": {
      "text/plain": [
       "LinearRegression(copy_X=True, fit_intercept=True, n_jobs=None, normalize=False)"
      ]
     },
     "execution_count": 5,
     "metadata": {},
     "output_type": "execute_result"
    }
   ],
   "source": [
    "salary_model = LinearRegression()\n",
    "salary_model.fit(x,y)"
   ]
  },
  {
   "cell_type": "markdown",
   "metadata": {
    "colab_type": "text",
    "id": "CcFtzhaXkuKy"
   },
   "source": [
    "What does is mean that we have fitted a model? It means we can make predictions along a line by inputting any x value. We can see how similar those predictions are to the x values we know the corresponding y values for. Below these predictions are shown in red, and the obversed values are in blue. "
   ]
  },
  {
   "cell_type": "code",
   "execution_count": 6,
   "metadata": {
    "colab": {
     "base_uri": "https://localhost:8080/",
     "height": 279
    },
    "colab_type": "code",
    "executionInfo": {
     "elapsed": 4586,
     "status": "ok",
     "timestamp": 1591363272078,
     "user": {
      "displayName": "Katherine James",
      "photoUrl": "https://lh3.googleusercontent.com/a-/AOh14GiFaZwPCpl3gehLImqfDSe7bvGd4V1S9MwtCk3qcA=s64",
      "userId": "15453441912277472489"
     },
     "user_tz": -120
    },
    "id": "jqJCOO3NkuKz",
    "outputId": "d36fdf53-8e53-4a13-bb23-f6b96b8cd760"
   },
   "outputs": [
    {
     "data": {
      "image/png": "[encoded data removed]",
      "text/plain": [
       "<Figure size 432x288 with 1 Axes>"
      ]
     },
     "metadata": {
      "needs_background": "light"
     },
     "output_type": "display_data"
    }
   ],
   "source": [
    "y_pred = salary_model.predict(x)\n",
    "\n",
    "plt.scatter(x,y,color = 'b')\n",
    "plt.plot(x,y_pred,color = 'r')\n",
    "plt.ylabel('Salary')\n",
    "plt.xlabel('YearsExperience')\n",
    "plt.show()"
   ]
  },
  {
   "cell_type": "markdown",
   "metadata": {
    "colab_type": "text",
    "id": "nKjw8-pfM3rV"
   },
   "source": [
    "If we are happy with this model, we may want to use it to determine how much to pay an employee who has been at the company longer than any previous employee has. "
   ]
  },
  {
   "cell_type": "code",
   "execution_count": 7,
   "metadata": {
    "colab": {
     "base_uri": "https://localhost:8080/",
     "height": 296
    },
    "colab_type": "code",
    "executionInfo": {
     "elapsed": 4580,
     "status": "ok",
     "timestamp": 1591363272080,
     "user": {
      "displayName": "Katherine James",
      "photoUrl": "https://lh3.googleusercontent.com/a-/AOh14GiFaZwPCpl3gehLImqfDSe7bvGd4V1S9MwtCk3qcA=s64",
      "userId": "15453441912277472489"
     },
     "user_tz": -120
    },
    "id": "PcYzqba2NEpi",
    "outputId": "27b79ff3-64ba-4deb-9cf0-825551013f3a"
   },
   "outputs": [
    {
     "data": {
      "image/png": "[encoded data removed]",
      "text/plain": [
       "<Figure size 432x288 with 1 Axes>"
      ]
     },
     "metadata": {
      "needs_background": "light"
     },
     "output_type": "display_data"
    },
    {
     "name": "stdout",
     "output_type": "stream",
     "text": [
      "Employee should make: [139191.74805613]\n"
     ]
    }
   ],
   "source": [
    "unk_x = [[12]]\n",
    "\n",
    "x_pred = np.append(x, unk_x).reshape(-1,1)\n",
    "y_pred = salary_model.predict(x_pred)\n",
    "\n",
    "plt.scatter(x,y,color = 'b')\n",
    "plt.plot(x_pred,y_pred,color = 'r')\n",
    "plt.xlabel('Salary')\n",
    "plt.ylabel('YearsExperience')\n",
    "plt.show()\n",
    "\n",
    "print(\"Employee should make:\", salary_model.predict(unk_x))"
   ]
  },
  {
   "cell_type": "code",
   "execution_count": null,
   "metadata": {},
   "outputs": [],
   "source": []
  }
 ],
 "metadata": {
  "colab": {
   "collapsed_sections": [],
   "name": "Simple Linear Regression.ipynb",
   "provenance": [],
   "toc_visible": true
  },
  "kernelspec": {
   "display_name": "Python 3 (ipykernel)",
   "language": "python",
   "name": "python3"
  },
  "language_info": {
   "codemirror_mode": {
    "name": "ipython",
    "version": 3
   },
   "file_extension": ".py",
   "mimetype": "text/x-python",
   "name": "python",
   "nbconvert_exporter": "python",
   "pygments_lexer": "ipython3",
   "version": "3.9.5"
  }
 },
 "nbformat": 4,
 "nbformat_minor": 1
}
