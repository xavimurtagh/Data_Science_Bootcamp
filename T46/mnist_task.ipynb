{
 "cells": [
  {
   "cell_type": "code",
   "execution_count": 93,
   "id": "28d6e64d",
   "metadata": {},
   "outputs": [],
   "source": [
    "import numpy as np\n",
    "from sklearn.model_selection import train_test_split\n",
    "from sklearn.metrics import accuracy_score\n",
    "import matplotlib.pyplot as plt\n",
    "from sklearn.datasets import load_digits\n",
    "from keras.datasets import mnist\n",
    "from sklearn.ensemble import RandomForestClassifier\n",
    "import matplotlib.pyplot as plt\n",
    "from sklearn.datasets import fetch_openml"
   ]
  },
  {
   "cell_type": "code",
   "execution_count": 97,
   "id": "9c7e6f96",
   "metadata": {},
   "outputs": [],
   "source": [
    "# split mnist dataset into train and test sets\n",
    "(X_train, y_train), (X_test, y_test) = mnist.load_data()\n",
    "\n",
    "# splitting test set to testing and development set\n",
    "X_test, X_dev, y_test, y_dev = train_test_split(X_test, \n",
    "                y_test, test_size=0.50, shuffle=True)"
   ]
  },
  {
   "cell_type": "markdown",
   "id": "e22ba778",
   "metadata": {},
   "source": [
    "The train dataset is to train the model, the dev model is used to test the model and improve it if its under or overfitting, the test dataset is what we perform the final model on."
   ]
  },
  {
   "cell_type": "code",
   "execution_count": 99,
   "id": "cd1235c8",
   "metadata": {},
   "outputs": [],
   "source": [
    "# resphaping datasets \n",
    "X_train = X_train.reshape((-1, X_train.shape[1]*X_train.shape[2]))\n",
    "X_test = X_test.reshape((-1, X_test.shape[1]*X_test.shape[2]))\n",
    "X_dev = X_dev.reshape((-1, X_dev.shape[1]*X_dev.shape[2]))"
   ]
  },
  {
   "cell_type": "code",
   "execution_count": 107,
   "id": "69a1a0ce",
   "metadata": {},
   "outputs": [],
   "source": [
    "# seting the best score and random state\n",
    "bscore = 0\n",
    "bstate = 0\n",
    "i = 1\n",
    "# looping through first 13 random states and finding the best score from them\n",
    "while i <=13:\n",
    "    model = RandomForestClassifier(n_estimators=50, random_state=i)\n",
    "    model.fit(X_train, y_train)\n",
    "    nscore = model.score(X_dev, y_dev.flatten())\n",
    "    if bscore < nscore:\n",
    "        bscore = nscore\n",
    "        bstate = i\n",
    "    i+=1"
   ]
  },
  {
   "cell_type": "markdown",
   "id": "39419842",
   "metadata": {},
   "source": [
    "I decided to tune random_state as it would take too long to loop through n_estimators"
   ]
  },
  {
   "cell_type": "code",
   "execution_count": 109,
   "id": "dd47ba81",
   "metadata": {},
   "outputs": [
    {
     "name": "stdout",
     "output_type": "stream",
     "text": [
      "The best score was 0.9654 with a random state of 6\n"
     ]
    }
   ],
   "source": [
    "# returning the best score and the random state that got it\n",
    "print(f'The best score was {bscore} with a random state of {bstate}')"
   ]
  },
  {
   "cell_type": "code",
   "execution_count": 111,
   "id": "7728d0d7",
   "metadata": {},
   "outputs": [
    {
     "name": "stdout",
     "output_type": "stream",
     "text": [
      "Accuracy score on test data is 0.974\n"
     ]
    }
   ],
   "source": [
    "# applying model on test data with random state with the best results\n",
    "fmodel = RandomForestClassifier(n_estimators=100, random_state=bstate)\n",
    "fmodel.fit(X_train, y_train)\n",
    "print('Accuracy score on test data is', fmodel.score(X_test, y_test.flatten()))"
   ]
  },
  {
   "cell_type": "code",
   "execution_count": 119,
   "id": "b5f2f548",
   "metadata": {},
   "outputs": [
    {
     "data": {
      "text/html": [
       "<div>\n",
       "<style scoped>\n",
       "    .dataframe tbody tr th:only-of-type {\n",
       "        vertical-align: middle;\n",
       "    }\n",
       "\n",
       "    .dataframe tbody tr th {\n",
       "        vertical-align: top;\n",
       "    }\n",
       "\n",
       "    .dataframe thead th {\n",
       "        text-align: right;\n",
       "    }\n",
       "</style>\n",
       "<table border=\"1\" class=\"dataframe\">\n",
       "  <thead>\n",
       "    <tr style=\"text-align: right;\">\n",
       "      <th></th>\n",
       "      <th>1</th>\n",
       "      <th>2</th>\n",
       "      <th>3</th>\n",
       "      <th>4</th>\n",
       "      <th>5</th>\n",
       "      <th>6</th>\n",
       "      <th>7</th>\n",
       "      <th>8</th>\n",
       "      <th>9</th>\n",
       "      <th>0</th>\n",
       "    </tr>\n",
       "  </thead>\n",
       "  <tbody>\n",
       "    <tr>\n",
       "      <th>1</th>\n",
       "      <td>469</td>\n",
       "      <td>0</td>\n",
       "      <td>1</td>\n",
       "      <td>0</td>\n",
       "      <td>0</td>\n",
       "      <td>2</td>\n",
       "      <td>1</td>\n",
       "      <td>1</td>\n",
       "      <td>2</td>\n",
       "      <td>0</td>\n",
       "    </tr>\n",
       "    <tr>\n",
       "      <th>2</th>\n",
       "      <td>0</td>\n",
       "      <td>576</td>\n",
       "      <td>2</td>\n",
       "      <td>2</td>\n",
       "      <td>0</td>\n",
       "      <td>0</td>\n",
       "      <td>0</td>\n",
       "      <td>0</td>\n",
       "      <td>0</td>\n",
       "      <td>0</td>\n",
       "    </tr>\n",
       "    <tr>\n",
       "      <th>3</th>\n",
       "      <td>1</td>\n",
       "      <td>0</td>\n",
       "      <td>498</td>\n",
       "      <td>2</td>\n",
       "      <td>1</td>\n",
       "      <td>0</td>\n",
       "      <td>2</td>\n",
       "      <td>5</td>\n",
       "      <td>4</td>\n",
       "      <td>0</td>\n",
       "    </tr>\n",
       "    <tr>\n",
       "      <th>4</th>\n",
       "      <td>0</td>\n",
       "      <td>0</td>\n",
       "      <td>6</td>\n",
       "      <td>500</td>\n",
       "      <td>0</td>\n",
       "      <td>3</td>\n",
       "      <td>0</td>\n",
       "      <td>3</td>\n",
       "      <td>3</td>\n",
       "      <td>1</td>\n",
       "    </tr>\n",
       "    <tr>\n",
       "      <th>5</th>\n",
       "      <td>1</td>\n",
       "      <td>0</td>\n",
       "      <td>0</td>\n",
       "      <td>0</td>\n",
       "      <td>474</td>\n",
       "      <td>0</td>\n",
       "      <td>4</td>\n",
       "      <td>0</td>\n",
       "      <td>3</td>\n",
       "      <td>6</td>\n",
       "    </tr>\n",
       "    <tr>\n",
       "      <th>6</th>\n",
       "      <td>0</td>\n",
       "      <td>1</td>\n",
       "      <td>0</td>\n",
       "      <td>6</td>\n",
       "      <td>0</td>\n",
       "      <td>452</td>\n",
       "      <td>2</td>\n",
       "      <td>1</td>\n",
       "      <td>1</td>\n",
       "      <td>0</td>\n",
       "    </tr>\n",
       "    <tr>\n",
       "      <th>7</th>\n",
       "      <td>5</td>\n",
       "      <td>1</td>\n",
       "      <td>0</td>\n",
       "      <td>0</td>\n",
       "      <td>0</td>\n",
       "      <td>1</td>\n",
       "      <td>472</td>\n",
       "      <td>0</td>\n",
       "      <td>1</td>\n",
       "      <td>0</td>\n",
       "    </tr>\n",
       "    <tr>\n",
       "      <th>8</th>\n",
       "      <td>0</td>\n",
       "      <td>2</td>\n",
       "      <td>8</td>\n",
       "      <td>0</td>\n",
       "      <td>0</td>\n",
       "      <td>0</td>\n",
       "      <td>0</td>\n",
       "      <td>476</td>\n",
       "      <td>2</td>\n",
       "      <td>2</td>\n",
       "    </tr>\n",
       "    <tr>\n",
       "      <th>9</th>\n",
       "      <td>2</td>\n",
       "      <td>0</td>\n",
       "      <td>3</td>\n",
       "      <td>5</td>\n",
       "      <td>2</td>\n",
       "      <td>2</td>\n",
       "      <td>2</td>\n",
       "      <td>1</td>\n",
       "      <td>468</td>\n",
       "      <td>4</td>\n",
       "    </tr>\n",
       "    <tr>\n",
       "      <th>0</th>\n",
       "      <td>4</td>\n",
       "      <td>2</td>\n",
       "      <td>0</td>\n",
       "      <td>4</td>\n",
       "      <td>4</td>\n",
       "      <td>1</td>\n",
       "      <td>0</td>\n",
       "      <td>1</td>\n",
       "      <td>4</td>\n",
       "      <td>485</td>\n",
       "    </tr>\n",
       "  </tbody>\n",
       "</table>\n",
       "</div>"
      ],
      "text/plain": [
       "     1    2    3    4    5    6    7    8    9    0\n",
       "1  469    0    1    0    0    2    1    1    2    0\n",
       "2    0  576    2    2    0    0    0    0    0    0\n",
       "3    1    0  498    2    1    0    2    5    4    0\n",
       "4    0    0    6  500    0    3    0    3    3    1\n",
       "5    1    0    0    0  474    0    4    0    3    6\n",
       "6    0    1    0    6    0  452    2    1    1    0\n",
       "7    5    1    0    0    0    1  472    0    1    0\n",
       "8    0    2    8    0    0    0    0  476    2    2\n",
       "9    2    0    3    5    2    2    2    1  468    4\n",
       "0    4    2    0    4    4    1    0    1    4  485"
      ]
     },
     "execution_count": 119,
     "metadata": {},
     "output_type": "execute_result"
    }
   ],
   "source": [
    "from sklearn.metrics import confusion_matrix\n",
    "\n",
    "y_pred = fmodel.predict(X_test)\n",
    "\n",
    "# creating and printing matrix as dataframe\n",
    "classes = list([1,2,3,4,5,6,7,8,9,0])\n",
    "conf_mat = confusion_matrix(y_test, y_pred)\n",
    "cm_df = pd.DataFrame(conf_mat, columns=classes, index=classes)\n",
    "cm_df"
   ]
  },
  {
   "cell_type": "code",
   "execution_count": 122,
   "id": "a6ddcfa1",
   "metadata": {},
   "outputs": [
    {
     "name": "stdout",
     "output_type": "stream",
     "text": [
      "0.974\n",
      "Hardest class: 9\n"
     ]
    }
   ],
   "source": [
    "# finding the hardest class\n",
    "\n",
    "from sklearn.metrics import f1_score, precision_score, recall_score\n",
    "\n",
    "# average f1 score\n",
    "av_f1 = f1_score(y_test, y_pred, average='micro')\n",
    "print(av_f1)\n",
    "\n",
    "# f1 score per class\n",
    "f = f1_score(y_test, y_pred, average=None)\n",
    "lowest_score = min(f)\n",
    "hardest_class = classes[list(f).index(lowest_score)]\n",
    "print('Hardest class:', hardest_class)"
   ]
  },
  {
   "cell_type": "code",
   "execution_count": 123,
   "id": "7d8376ad",
   "metadata": {},
   "outputs": [
    {
     "name": "stdout",
     "output_type": "stream",
     "text": [
      "Precision: 0.9590163934426229\n",
      "Recall: 0.9570552147239264\n"
     ]
    }
   ],
   "source": [
    "# precision and recall for 9  \n",
    "prec = precision_score(y_test == classes.index(9), y_pred == classes.index(9))\n",
    "rec = recall_score(y_test == classes.index(9), y_pred == classes.index(9))\n",
    "\n",
    "print('Precision:', prec)\n",
    "print('Recall:', rec)"
   ]
  },
  {
   "cell_type": "code",
   "execution_count": null,
   "id": "e0a2eb2b",
   "metadata": {},
   "outputs": [],
   "source": []
  }
 ],
 "metadata": {
  "kernelspec": {
   "display_name": "Python 3 (ipykernel)",
   "language": "python",
   "name": "python3"
  },
  "language_info": {
   "codemirror_mode": {
    "name": "ipython",
    "version": 3
   },
   "file_extension": ".py",
   "mimetype": "text/x-python",
   "name": "python",
   "nbconvert_exporter": "python",
   "pygments_lexer": "ipython3",
   "version": "3.9.5"
  }
 },
 "nbformat": 4,
 "nbformat_minor": 5
}
